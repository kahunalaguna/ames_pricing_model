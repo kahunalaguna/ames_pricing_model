{
 "cells": [
  {
   "cell_type": "markdown",
   "id": "d00de319-8fce-4b3f-976b-4459e167659d",
   "metadata": {},
   "source": [
    "## Feature Engineering and Model Improvement"
   ]
  },
  {
   "cell_type": "code",
   "execution_count": 1,
   "id": "2abc81a2-551b-41fc-a78a-73668876a15d",
   "metadata": {},
   "outputs": [],
   "source": [
    "import pandas as pd\n",
    "import numpy as np\n",
    "import matplotlib.pyplot as plt\n",
    "import seaborn as sns\n",
    "\n",
    "from sklearn.metrics import r2_score, mean_squared_error\n",
    "from sklearn.model_selection import train_test_split, cross_val_score, GridSearchCV\n",
    "from sklearn.preprocessing import StandardScaler, PolynomialFeatures, OneHotEncoder\n",
    "from sklearn.pipeline import Pipeline\n",
    "from sklearn.linear_model import LinearRegression, LassoCV, RidgeCV"
   ]
  },
  {
   "cell_type": "code",
   "execution_count": 2,
   "id": "51e7cf5c-f98b-4909-a769-f75954fe6e5f",
   "metadata": {},
   "outputs": [],
   "source": [
    "def rmse(model, X, y):\n",
    "    model_preds = model.predict(X)\n",
    "    mse = mean_squared_error(y, model_preds)\n",
    "    return mse ** 0.5"
   ]
  },
  {
   "cell_type": "code",
   "execution_count": 7,
   "id": "4d8c2d45-b2d9-49b8-a838-9a01c54dcb48",
   "metadata": {},
   "outputs": [],
   "source": [
    "df = pd.read_csv('./datasets/cleaned_housing_data.csv', keep_default_na=False, na_values=[''])\n",
    "test = pd.read_csv('./datasets/test.csv', keep_default_na=False, na_values=[''])\n",
    "pd.options.display.max_columns = 99\n",
    "df = df.drop(columns=['Unnamed: 0'])"
   ]
  },
  {
   "cell_type": "code",
   "execution_count": 133,
   "id": "4ba7df24-74a1-44d1-b21c-db407450ff0d",
   "metadata": {},
   "outputs": [],
   "source": [
    "features_A=[\n",
    "    'Overall Qual',\n",
    "    'Overall Cond',\n",
    "    'Year Built',\n",
    "    'Year Remod/Add',\n",
    "    'Total Bsmt SF',\n",
    "    '1st Flr SF',\n",
    "    'Gr Liv Area',\n",
    "    'TotRms AbvGrd',\n",
    "    'Fireplaces',\n",
    "    'Garage Yr Blt',\n",
    "    'Garage Area'\n",
    "]"
   ]
  },
  {
   "cell_type": "code",
   "execution_count": 134,
   "id": "6830022d-76b0-4db4-91d5-4c2f6a656ff7",
   "metadata": {},
   "outputs": [],
   "source": [
    "num_features = features_A + ['Mas Vnr Area', 'Full Bath', 'BsmtFin SF 1', 'Garage Cars']"
   ]
  },
  {
   "cell_type": "markdown",
   "id": "03d59a03-a043-4475-a229-bacaa2354ebf",
   "metadata": {},
   "source": [
    "### Best Working Model"
   ]
  },
  {
   "cell_type": "code",
   "execution_count": 20,
   "id": "634887cc-a903-4609-a1de-0577aab1df20",
   "metadata": {},
   "outputs": [],
   "source": [
    "#Define predictor and target variable(s):\n",
    "X=df[num_features]\n",
    "y=df['SalePrice']"
   ]
  },
  {
   "cell_type": "code",
   "execution_count": 21,
   "id": "7c37eb2d-689e-48ac-8c5f-edbaa3538d25",
   "metadata": {},
   "outputs": [],
   "source": [
    "#train test split\n",
    "X_train, X_test, y_train, y_test = train_test_split(X, y, random_state=42)"
   ]
  },
  {
   "cell_type": "code",
   "execution_count": 22,
   "id": "01cd5d47-47ae-46b3-b2a9-86774755c1b9",
   "metadata": {},
   "outputs": [
    {
     "name": "stderr",
     "output_type": "stream",
     "text": [
      "[Parallel(n_jobs=1)]: Using backend SequentialBackend with 1 concurrent workers.\n",
      "....................................................................................................................................................................................................................................................................................................................................................................................................................................................................................................................[Parallel(n_jobs=1)]: Done   5 out of   5 | elapsed:    0.5s finished\n",
      "/Users/kevingates/opt/anaconda3/lib/python3.9/site-packages/sklearn/linear_model/_coordinate_descent.py:530: ConvergenceWarning: Objective did not converge. You might want to increase the number of iterations. Duality gap: 1232246972.0985718, tolerance: 812106208.9881159\n",
      "  model = cd_fast.enet_coordinate_descent(\n"
     ]
    },
    {
     "data": {
      "text/plain": [
       "(0.9313352958324199, 0.9188377542426759)"
      ]
     },
     "execution_count": 22,
     "metadata": {},
     "output_type": "execute_result"
    }
   ],
   "source": [
    "#Fit and Score Pipeline\n",
    "pipe = Pipeline([\n",
    "    ('ss', StandardScaler()),\n",
    "    ('pf', PolynomialFeatures(interaction_only=False, include_bias=False)),\n",
    "    ('lr', LassoCV(verbose=True))\n",
    "])\n",
    "\n",
    "pipe.fit(X_train, y_train)\n",
    "pipe.score(X_train, y_train), pipe.score(X_test, y_test)"
   ]
  },
  {
   "cell_type": "code",
   "execution_count": 23,
   "id": "db4794e9-e14b-4889-8ab0-1e0bea146083",
   "metadata": {},
   "outputs": [
    {
     "data": {
      "text/plain": [
       "(21610.809185260536, 23154.910813046903)"
      ]
     },
     "execution_count": 23,
     "metadata": {},
     "output_type": "execute_result"
    }
   ],
   "source": [
    "#Calculate rmse for train test splits\n",
    "rmse(pipe, X_train, y_train), rmse(pipe, X_test, y_test)"
   ]
  },
  {
   "cell_type": "markdown",
   "id": "d8ce6248-5cdf-43d7-8f4c-012bae4e2fd8",
   "metadata": {},
   "source": [
    "-----"
   ]
  },
  {
   "cell_type": "code",
   "execution_count": 30,
   "id": "a758938d-20e0-4ab1-85aa-0440c5de5863",
   "metadata": {},
   "outputs": [],
   "source": [
    "ohe_features = [\n",
    "    'MS Zoning', \n",
    "    'Land Contour', \n",
    "    'Neighborhood', \n",
    "    'Condition 1', \n",
    "    'House Style', \n",
    "    'Roof Style', \n",
    "    'Exterior 1st', \n",
    "    'Mas Vnr Type', \n",
    "    'Exter Qual', \n",
    "    'Foundation', \n",
    "    'Bsmt Qual', \n",
    "    'Kitchen Qual', \n",
    "    'Functional', \n",
    "    'Garage Finish', \n",
    "    'Garage Qual', \n",
    "    'Pool QC'\n",
    "]"
   ]
  },
  {
   "cell_type": "code",
   "execution_count": 31,
   "id": "a0804bb3-c964-41fb-823a-603afa0fba74",
   "metadata": {},
   "outputs": [],
   "source": [
    "features = num_features + ohe_features"
   ]
  },
  {
   "cell_type": "code",
   "execution_count": 32,
   "id": "181d363d-767e-4ba0-afc4-91f50203303c",
   "metadata": {},
   "outputs": [],
   "source": [
    "#Define predictor and target variable(s):\n",
    "X=df[features]\n",
    "y=df['SalePrice']"
   ]
  },
  {
   "cell_type": "code",
   "execution_count": 33,
   "id": "39d4fc54-26d2-491d-aa62-acd4e092c6d6",
   "metadata": {},
   "outputs": [],
   "source": [
    "#train test split\n",
    "X_train, X_test, y_train, y_test = train_test_split(X, y, random_state=42)"
   ]
  },
  {
   "cell_type": "code",
   "execution_count": 36,
   "id": "4c67198a-4e4a-4d49-af51-507832840a9a",
   "metadata": {},
   "outputs": [],
   "source": [
    "ohe = OneHotEncoder(sparse=False,handle_unknown='ignore')\n",
    "ohe.fit(X_train[ohe_features])\n",
    "\n",
    "#convert training categorical columns\n",
    "X_train_ohe = pd.DataFrame(\n",
    "    ohe.transform(X_train[ohe_features]),\n",
    "    columns=ohe.get_feature_names(ohe_features)\n",
    ")\n",
    "\n",
    "#convert testing categorical columns\n",
    "X_test_ohe = pd.DataFrame(\n",
    "    ohe.transform(X_test[ohe_features]),\n",
    "    columns=ohe.get_feature_names(ohe_features)\n",
    ")"
   ]
  },
  {
   "cell_type": "code",
   "execution_count": 37,
   "id": "c0901cf5-b7ec-47ca-9827-c4abb02366d6",
   "metadata": {},
   "outputs": [],
   "source": [
    "#Adding one hot encoded columns to train test split X's\n",
    "X_train_full = pd.concat([X_train.reset_index(drop=True), X_train_ohe], axis=1).drop(columns=ohe_features)\n",
    "X_test_full = pd.concat([X_test.reset_index(drop=True), X_test_ohe], axis=1).drop(columns=ohe_features)"
   ]
  },
  {
   "cell_type": "code",
   "execution_count": 38,
   "id": "3ca3ea25-fd33-49c2-9ba9-e48c9c57550e",
   "metadata": {},
   "outputs": [
    {
     "name": "stderr",
     "output_type": "stream",
     "text": [
      "[Parallel(n_jobs=1)]: Using backend SequentialBackend with 1 concurrent workers.\n",
      "................................................................................../Users/kevingates/opt/anaconda3/lib/python3.9/site-packages/sklearn/linear_model/_coordinate_descent.py:530: ConvergenceWarning: Objective did not converge. You might want to increase the number of iterations. Duality gap: 1014086354.0550385, tolerance: 639848527.6405038\n",
      "  model = cd_fast.enet_coordinate_descent(\n",
      "............................................................................................................./Users/kevingates/opt/anaconda3/lib/python3.9/site-packages/sklearn/linear_model/_coordinate_descent.py:530: ConvergenceWarning: Objective did not converge. You might want to increase the number of iterations. Duality gap: 695600349.2429504, tolerance: 647748691.5829774\n",
      "  model = cd_fast.enet_coordinate_descent(\n",
      ".............................................................................................................................................................................................................................................................................................................../Users/kevingates/opt/anaconda3/lib/python3.9/site-packages/sklearn/linear_model/_coordinate_descent.py:530: ConvergenceWarning: Objective did not converge. You might want to increase the number of iterations. Duality gap: 926412637.5422363, tolerance: 657495809.8635361\n",
      "  model = cd_fast.enet_coordinate_descent(\n",
      "......[Parallel(n_jobs=1)]: Done   5 out of   5 | elapsed:  6.8min finished\n"
     ]
    },
    {
     "data": {
      "text/plain": [
       "(0.8658333818751494, 0.8508943192834514)"
      ]
     },
     "execution_count": 38,
     "metadata": {},
     "output_type": "execute_result"
    }
   ],
   "source": [
    "#Fit and Score Pipeline\n",
    "pipe1=Pipeline([\n",
    "    ('ss', StandardScaler()),\n",
    "    ('pf', PolynomialFeatures(interaction_only=True, include_bias=False)),\n",
    "    ('lr', LassoCV(verbose=True))\n",
    "])\n",
    "\n",
    "pipe1.fit(X_train_full, y_train)\n",
    "pipe1.score(X_train_full, y_train), pipe1.score(X_test_full, y_test)"
   ]
  },
  {
   "cell_type": "code",
   "execution_count": 39,
   "id": "42393910-b62f-47eb-8a22-de2fc2ed8019",
   "metadata": {},
   "outputs": [
    {
     "data": {
      "text/plain": [
       "(30208.31410982516, 31384.35298311812)"
      ]
     },
     "execution_count": 39,
     "metadata": {},
     "output_type": "execute_result"
    }
   ],
   "source": [
    "rmse(pipe1, X_train_full, y_train), rmse(pipe1, X_test_full, y_test)"
   ]
  },
  {
   "cell_type": "markdown",
   "id": "8bd606a4-14d1-45f0-aa83-ff2b0a745eeb",
   "metadata": {},
   "source": [
    "------"
   ]
  },
  {
   "cell_type": "markdown",
   "id": "5b40cabd-e5c2-42d5-9649-da3f472e6f2f",
   "metadata": {},
   "source": [
    "##### Now I will iterate on ohe features to include in the pipe:"
   ]
  },
  {
   "cell_type": "code",
   "execution_count": 41,
   "id": "d41d2eba-2e27-418e-aa39-3665fbb7e479",
   "metadata": {},
   "outputs": [],
   "source": [
    "pipe1_coefs = pipe1.named_steps['lr'].coef_"
   ]
  },
  {
   "cell_type": "code",
   "execution_count": 43,
   "id": "d5739887-0381-415d-8592-29fbfa33ddf8",
   "metadata": {},
   "outputs": [],
   "source": [
    "pipe1_coefs = pd.DataFrame(pipe1.named_steps['lr'].coef_, index = pipe1.named_steps['pf'].get_feature_names(X_train_full.columns), columns=['coef val'])"
   ]
  },
  {
   "cell_type": "code",
   "execution_count": 91,
   "id": "2add26c9-3f8c-4a0c-8c7b-ecaaff50e4cf",
   "metadata": {},
   "outputs": [
    {
     "data": {
      "text/html": [
       "<div>\n",
       "<style scoped>\n",
       "    .dataframe tbody tr th:only-of-type {\n",
       "        vertical-align: middle;\n",
       "    }\n",
       "\n",
       "    .dataframe tbody tr th {\n",
       "        vertical-align: top;\n",
       "    }\n",
       "\n",
       "    .dataframe thead th {\n",
       "        text-align: right;\n",
       "    }\n",
       "</style>\n",
       "<table border=\"1\" class=\"dataframe\">\n",
       "  <thead>\n",
       "    <tr style=\"text-align: right;\">\n",
       "      <th></th>\n",
       "      <th>coef val</th>\n",
       "    </tr>\n",
       "  </thead>\n",
       "  <tbody>\n",
       "    <tr>\n",
       "      <th>Overall Qual</th>\n",
       "      <td>23066.443275</td>\n",
       "    </tr>\n",
       "    <tr>\n",
       "      <th>Gr Liv Area</th>\n",
       "      <td>19469.540370</td>\n",
       "    </tr>\n",
       "    <tr>\n",
       "      <th>Total Bsmt SF</th>\n",
       "      <td>6169.331571</td>\n",
       "    </tr>\n",
       "    <tr>\n",
       "      <th>Garage Area</th>\n",
       "      <td>3988.745027</td>\n",
       "    </tr>\n",
       "    <tr>\n",
       "      <th>Neighborhood_NridgHt Bsmt Qual_Ex</th>\n",
       "      <td>2775.821637</td>\n",
       "    </tr>\n",
       "    <tr>\n",
       "      <th>Neighborhood_StoneBr Bsmt Qual_Ex</th>\n",
       "      <td>2408.069258</td>\n",
       "    </tr>\n",
       "    <tr>\n",
       "      <th>Garage Cars</th>\n",
       "      <td>2359.575505</td>\n",
       "    </tr>\n",
       "    <tr>\n",
       "      <th>Year Built</th>\n",
       "      <td>2178.831555</td>\n",
       "    </tr>\n",
       "    <tr>\n",
       "      <th>BsmtFin SF 1</th>\n",
       "      <td>1970.077746</td>\n",
       "    </tr>\n",
       "    <tr>\n",
       "      <th>Year Remod/Add</th>\n",
       "      <td>1896.752426</td>\n",
       "    </tr>\n",
       "    <tr>\n",
       "      <th>Overall Qual Kitchen Qual_Ex</th>\n",
       "      <td>1841.713031</td>\n",
       "    </tr>\n",
       "    <tr>\n",
       "      <th>Gr Liv Area Neighborhood_NoRidge</th>\n",
       "      <td>1595.019816</td>\n",
       "    </tr>\n",
       "    <tr>\n",
       "      <th>Overall Qual Garage Area</th>\n",
       "      <td>1504.949436</td>\n",
       "    </tr>\n",
       "    <tr>\n",
       "      <th>Overall Qual Bsmt Qual_Ex</th>\n",
       "      <td>1367.287187</td>\n",
       "    </tr>\n",
       "    <tr>\n",
       "      <th>Bsmt Qual_Ex Kitchen Qual_Ex</th>\n",
       "      <td>1362.833663</td>\n",
       "    </tr>\n",
       "    <tr>\n",
       "      <th>MS Zoning_RL MS Zoning_RM</th>\n",
       "      <td>1290.126249</td>\n",
       "    </tr>\n",
       "    <tr>\n",
       "      <th>Mas Vnr Area Neighborhood_NridgHt</th>\n",
       "      <td>1237.232403</td>\n",
       "    </tr>\n",
       "    <tr>\n",
       "      <th>TotRms AbvGrd Kitchen Qual_Ex</th>\n",
       "      <td>1134.126172</td>\n",
       "    </tr>\n",
       "    <tr>\n",
       "      <th>Exter Qual_Ex Kitchen Qual_Ex</th>\n",
       "      <td>949.485193</td>\n",
       "    </tr>\n",
       "    <tr>\n",
       "      <th>Total Bsmt SF Neighborhood_NridgHt</th>\n",
       "      <td>787.865506</td>\n",
       "    </tr>\n",
       "    <tr>\n",
       "      <th>Land Contour_Bnk Land Contour_Lvl</th>\n",
       "      <td>638.814773</td>\n",
       "    </tr>\n",
       "    <tr>\n",
       "      <th>1st Flr SF</th>\n",
       "      <td>485.215361</td>\n",
       "    </tr>\n",
       "    <tr>\n",
       "      <th>Mas Vnr Area Neighborhood_NoRidge</th>\n",
       "      <td>348.932182</td>\n",
       "    </tr>\n",
       "    <tr>\n",
       "      <th>Land Contour_Low Neighborhood_ClearCr</th>\n",
       "      <td>261.645147</td>\n",
       "    </tr>\n",
       "    <tr>\n",
       "      <th>House Style_2.5Fin Garage Qual_Ex</th>\n",
       "      <td>257.787851</td>\n",
       "    </tr>\n",
       "  </tbody>\n",
       "</table>\n",
       "</div>"
      ],
      "text/plain": [
       "                                           coef val\n",
       "Overall Qual                           23066.443275\n",
       "Gr Liv Area                            19469.540370\n",
       "Total Bsmt SF                           6169.331571\n",
       "Garage Area                             3988.745027\n",
       "Neighborhood_NridgHt Bsmt Qual_Ex       2775.821637\n",
       "Neighborhood_StoneBr Bsmt Qual_Ex       2408.069258\n",
       "Garage Cars                             2359.575505\n",
       "Year Built                              2178.831555\n",
       "BsmtFin SF 1                            1970.077746\n",
       "Year Remod/Add                          1896.752426\n",
       "Overall Qual Kitchen Qual_Ex            1841.713031\n",
       "Gr Liv Area Neighborhood_NoRidge        1595.019816\n",
       "Overall Qual Garage Area                1504.949436\n",
       "Overall Qual Bsmt Qual_Ex               1367.287187\n",
       "Bsmt Qual_Ex Kitchen Qual_Ex            1362.833663\n",
       "MS Zoning_RL MS Zoning_RM               1290.126249\n",
       "Mas Vnr Area Neighborhood_NridgHt       1237.232403\n",
       "TotRms AbvGrd Kitchen Qual_Ex           1134.126172\n",
       "Exter Qual_Ex Kitchen Qual_Ex            949.485193\n",
       "Total Bsmt SF Neighborhood_NridgHt       787.865506\n",
       "Land Contour_Bnk Land Contour_Lvl        638.814773\n",
       "1st Flr SF                               485.215361\n",
       "Mas Vnr Area Neighborhood_NoRidge        348.932182\n",
       "Land Contour_Low Neighborhood_ClearCr    261.645147\n",
       "House Style_2.5Fin Garage Qual_Ex        257.787851"
      ]
     },
     "execution_count": 91,
     "metadata": {},
     "output_type": "execute_result"
    }
   ],
   "source": [
    "pipe1_coefs.sort_values('coef val', ascending=False).head(25)"
   ]
  },
  {
   "cell_type": "code",
   "execution_count": 92,
   "id": "bb98f8c6-6076-4e91-b9a3-eba24c965283",
   "metadata": {},
   "outputs": [
    {
     "data": {
      "text/html": [
       "<div>\n",
       "<style scoped>\n",
       "    .dataframe tbody tr th:only-of-type {\n",
       "        vertical-align: middle;\n",
       "    }\n",
       "\n",
       "    .dataframe tbody tr th {\n",
       "        vertical-align: top;\n",
       "    }\n",
       "\n",
       "    .dataframe thead th {\n",
       "        text-align: right;\n",
       "    }\n",
       "</style>\n",
       "<table border=\"1\" class=\"dataframe\">\n",
       "  <thead>\n",
       "    <tr style=\"text-align: right;\">\n",
       "      <th></th>\n",
       "      <th>coef val</th>\n",
       "    </tr>\n",
       "  </thead>\n",
       "  <tbody>\n",
       "    <tr>\n",
       "      <th>Pool QC_NA Pool QC_TA</th>\n",
       "      <td>-0.000000</td>\n",
       "    </tr>\n",
       "    <tr>\n",
       "      <th>Land Contour_HLS Roof Style_Gambrel</th>\n",
       "      <td>-0.000000</td>\n",
       "    </tr>\n",
       "    <tr>\n",
       "      <th>Land Contour_HLS House Style_SLvl</th>\n",
       "      <td>-0.000000</td>\n",
       "    </tr>\n",
       "    <tr>\n",
       "      <th>Land Contour_HLS House Style_1.5Unf</th>\n",
       "      <td>-0.000000</td>\n",
       "    </tr>\n",
       "    <tr>\n",
       "      <th>Land Contour_HLS House Style_1Story</th>\n",
       "      <td>0.000000</td>\n",
       "    </tr>\n",
       "    <tr>\n",
       "      <th>Land Contour_HLS House Style_2.5Fin</th>\n",
       "      <td>-0.000000</td>\n",
       "    </tr>\n",
       "    <tr>\n",
       "      <th>Land Contour_HLS House Style_2.5Unf</th>\n",
       "      <td>-0.000000</td>\n",
       "    </tr>\n",
       "    <tr>\n",
       "      <th>Land Contour_HLS House Style_SFoyer</th>\n",
       "      <td>-0.000000</td>\n",
       "    </tr>\n",
       "    <tr>\n",
       "      <th>Land Contour_HLS House Style_2Story</th>\n",
       "      <td>-0.000000</td>\n",
       "    </tr>\n",
       "    <tr>\n",
       "      <th>Land Contour_HLS Roof Style_Flat</th>\n",
       "      <td>-0.000000</td>\n",
       "    </tr>\n",
       "    <tr>\n",
       "      <th>Land Contour_HLS Roof Style_Gable</th>\n",
       "      <td>-0.000000</td>\n",
       "    </tr>\n",
       "    <tr>\n",
       "      <th>BsmtFin SF 1 Pool QC_Gd</th>\n",
       "      <td>-0.796383</td>\n",
       "    </tr>\n",
       "    <tr>\n",
       "      <th>Pool QC_Ex Pool QC_NA</th>\n",
       "      <td>-31.467974</td>\n",
       "    </tr>\n",
       "    <tr>\n",
       "      <th>Neighborhood_NPkVill Exterior 1st_Plywood</th>\n",
       "      <td>-43.490700</td>\n",
       "    </tr>\n",
       "    <tr>\n",
       "      <th>Functional_Maj2 Garage Qual_Po</th>\n",
       "      <td>-56.443666</td>\n",
       "    </tr>\n",
       "    <tr>\n",
       "      <th>Exter Qual_Fa Functional_Sal</th>\n",
       "      <td>-98.811640</td>\n",
       "    </tr>\n",
       "    <tr>\n",
       "      <th>MS Zoning_C (all) Exter Qual_Fa</th>\n",
       "      <td>-99.259410</td>\n",
       "    </tr>\n",
       "    <tr>\n",
       "      <th>MS Zoning_C (all) Neighborhood_IDOTRR</th>\n",
       "      <td>-99.430704</td>\n",
       "    </tr>\n",
       "    <tr>\n",
       "      <th>Garage Finish_Unf</th>\n",
       "      <td>-122.357400</td>\n",
       "    </tr>\n",
       "    <tr>\n",
       "      <th>Exterior 1st_BrkComm Functional_Mod</th>\n",
       "      <td>-135.751064</td>\n",
       "    </tr>\n",
       "    <tr>\n",
       "      <th>Garage Qual_Gd Garage Qual_TA</th>\n",
       "      <td>-224.460312</td>\n",
       "    </tr>\n",
       "    <tr>\n",
       "      <th>Land Contour_HLS Land Contour_Lvl</th>\n",
       "      <td>-743.142036</td>\n",
       "    </tr>\n",
       "    <tr>\n",
       "      <th>Total Bsmt SF Pool QC_Gd</th>\n",
       "      <td>-874.610579</td>\n",
       "    </tr>\n",
       "    <tr>\n",
       "      <th>Kitchen Qual_TA</th>\n",
       "      <td>-1266.533295</td>\n",
       "    </tr>\n",
       "    <tr>\n",
       "      <th>1st Flr SF Land Contour_Bnk</th>\n",
       "      <td>-3586.205291</td>\n",
       "    </tr>\n",
       "  </tbody>\n",
       "</table>\n",
       "</div>"
      ],
      "text/plain": [
       "                                              coef val\n",
       "Pool QC_NA Pool QC_TA                        -0.000000\n",
       "Land Contour_HLS Roof Style_Gambrel          -0.000000\n",
       "Land Contour_HLS House Style_SLvl            -0.000000\n",
       "Land Contour_HLS House Style_1.5Unf          -0.000000\n",
       "Land Contour_HLS House Style_1Story           0.000000\n",
       "Land Contour_HLS House Style_2.5Fin          -0.000000\n",
       "Land Contour_HLS House Style_2.5Unf          -0.000000\n",
       "Land Contour_HLS House Style_SFoyer          -0.000000\n",
       "Land Contour_HLS House Style_2Story          -0.000000\n",
       "Land Contour_HLS Roof Style_Flat             -0.000000\n",
       "Land Contour_HLS Roof Style_Gable            -0.000000\n",
       "BsmtFin SF 1 Pool QC_Gd                      -0.796383\n",
       "Pool QC_Ex Pool QC_NA                       -31.467974\n",
       "Neighborhood_NPkVill Exterior 1st_Plywood   -43.490700\n",
       "Functional_Maj2 Garage Qual_Po              -56.443666\n",
       "Exter Qual_Fa Functional_Sal                -98.811640\n",
       "MS Zoning_C (all) Exter Qual_Fa             -99.259410\n",
       "MS Zoning_C (all) Neighborhood_IDOTRR       -99.430704\n",
       "Garage Finish_Unf                          -122.357400\n",
       "Exterior 1st_BrkComm Functional_Mod        -135.751064\n",
       "Garage Qual_Gd Garage Qual_TA              -224.460312\n",
       "Land Contour_HLS Land Contour_Lvl          -743.142036\n",
       "Total Bsmt SF Pool QC_Gd                   -874.610579\n",
       "Kitchen Qual_TA                           -1266.533295\n",
       "1st Flr SF Land Contour_Bnk               -3586.205291"
      ]
     },
     "execution_count": 92,
     "metadata": {},
     "output_type": "execute_result"
    }
   ],
   "source": [
    "pipe1_coefs.sort_values('coef val', ascending=False).tail(25)"
   ]
  },
  {
   "cell_type": "markdown",
   "id": "1ed2f333-5c7c-4b86-a993-06982e882e9a",
   "metadata": {},
   "source": [
    "For having 8778 columns, Lasso definitely is a powerful tool for minimizing overfitting. That being said I can probably shave down the number of ohe features."
   ]
  },
  {
   "cell_type": "code",
   "execution_count": 58,
   "id": "b77dbc0b-5688-479f-8eb3-2d2735409a9e",
   "metadata": {},
   "outputs": [],
   "source": [
    "ohe_features2 = [\n",
    "    'MS Zoning', \n",
    "    'Neighborhood', \n",
    "    'Condition 1',\n",
    "    'Condition 2'\n",
    "]"
   ]
  },
  {
   "cell_type": "code",
   "execution_count": 59,
   "id": "33f04406-bc96-466e-af69-17b2f0c9775d",
   "metadata": {},
   "outputs": [],
   "source": [
    "features = num_features + ohe_features2"
   ]
  },
  {
   "cell_type": "code",
   "execution_count": 60,
   "id": "0b291931-dfe3-4a11-bf43-7c51ef79108c",
   "metadata": {},
   "outputs": [],
   "source": [
    "#Define predictor and target variable(s):\n",
    "X=df[features]\n",
    "y=df['SalePrice']"
   ]
  },
  {
   "cell_type": "code",
   "execution_count": 61,
   "id": "3d21dcac-e688-4785-a76f-d9a2ffc5b6e4",
   "metadata": {},
   "outputs": [],
   "source": [
    "#train test split\n",
    "X_train, X_test, y_train, y_test = train_test_split(X, y, random_state=42)"
   ]
  },
  {
   "cell_type": "code",
   "execution_count": 62,
   "id": "c38ece1c-2ea7-47fa-b209-0802f91f9460",
   "metadata": {},
   "outputs": [],
   "source": [
    "ohe2 = OneHotEncoder(sparse=False,handle_unknown='ignore')\n",
    "ohe2.fit(X_train[ohe_features2])\n",
    "\n",
    "#convert training categorical columns\n",
    "X_train_ohe = pd.DataFrame(\n",
    "    ohe2.transform(X_train[ohe_features2]),\n",
    "    columns=ohe2.get_feature_names(ohe_features2)\n",
    ")\n",
    "\n",
    "#convert testing categorical columns\n",
    "X_test_ohe = pd.DataFrame(\n",
    "    ohe2.transform(X_test[ohe_features2]),\n",
    "    columns=ohe2.get_feature_names(ohe_features2)\n",
    ")"
   ]
  },
  {
   "cell_type": "code",
   "execution_count": 63,
   "id": "643825ce-78eb-42d8-8da2-69bed8a9d144",
   "metadata": {},
   "outputs": [],
   "source": [
    "#Adding one hot encoded columns to train test split X's\n",
    "X_train_full = pd.concat([X_train.reset_index(drop=True), X_train_ohe], axis=1).drop(columns=ohe_features2)\n",
    "X_test_full = pd.concat([X_test.reset_index(drop=True), X_test_ohe], axis=1).drop(columns=ohe_features2)"
   ]
  },
  {
   "cell_type": "code",
   "execution_count": 66,
   "id": "c9b4c77d-416a-4234-aa59-8e7af500fc9d",
   "metadata": {},
   "outputs": [
    {
     "name": "stderr",
     "output_type": "stream",
     "text": [
      "[Parallel(n_jobs=1)]: Using backend SequentialBackend with 1 concurrent workers.\n",
      "....................................................................................................................................................................................................................................................................................................................................................................................................................................................................................................................[Parallel(n_jobs=1)]: Done   5 out of   5 | elapsed:   46.6s finished\n"
     ]
    },
    {
     "data": {
      "text/plain": [
       "(0.9606334062024935, 0.9228026490607858)"
      ]
     },
     "execution_count": 66,
     "metadata": {},
     "output_type": "execute_result"
    }
   ],
   "source": [
    "#Fit and Score Pipeline\n",
    "pipe2=Pipeline([\n",
    "    ('ss', StandardScaler()),\n",
    "    ('pf', PolynomialFeatures(interaction_only=False, include_bias=False)),\n",
    "    ('lr', LassoCV(verbose=True))\n",
    "])\n",
    "\n",
    "pipe2.fit(X_train_full, y_train)\n",
    "pipe2.score(X_train_full, y_train), pipe2.score(X_test_full, y_test)"
   ]
  },
  {
   "cell_type": "code",
   "execution_count": 67,
   "id": "258c4361-cdb4-4001-99a8-eba60d74f183",
   "metadata": {},
   "outputs": [
    {
     "data": {
      "text/plain": [
       "(16363.197473958438, 22582.25377488116)"
      ]
     },
     "execution_count": 67,
     "metadata": {},
     "output_type": "execute_result"
    }
   ],
   "source": [
    "rmse(pipe2, X_train_full, y_train), rmse(pipe2, X_test_full, y_test)"
   ]
  },
  {
   "cell_type": "markdown",
   "id": "269148cd-10d8-4052-a3dc-3cf8259dc9c9",
   "metadata": {},
   "source": [
    "-----"
   ]
  },
  {
   "cell_type": "markdown",
   "id": "382b535b-b4e3-406f-99b6-153e3aaf4870",
   "metadata": {},
   "source": [
    "The model got worse though not by much. I still want to narrow down ohe features included to find the best ones. Instead of populating notebooks full of ohe1,2,3,4,5,n and pipe1,2,3,4,5,n I am going to edit the ohe features2 list and rerun the same model until I arrrive at a desired model to display."
   ]
  },
  {
   "cell_type": "markdown",
   "id": "848b9666-ed56-4cde-b9ed-9114e8a77865",
   "metadata": {},
   "source": [
    "After a few iterations I arrrived at the model displayed above. It is my best model performance yet but shows signs of overfitting. I'm going to use the model to predict test set sales prices for kaggle submission before iterating further."
   ]
  },
  {
   "cell_type": "markdown",
   "id": "a063b7aa-de3d-4133-a9d8-ac2c05176612",
   "metadata": {},
   "source": [
    "-----"
   ]
  },
  {
   "cell_type": "code",
   "execution_count": 70,
   "id": "4bfff726-0aa2-4736-b38c-55165fe1da67",
   "metadata": {},
   "outputs": [],
   "source": [
    "test = pd.read_csv('./datasets/test.csv', keep_default_na=False, na_values=[''])\n",
    "test=test.fillna(0)"
   ]
  },
  {
   "cell_type": "code",
   "execution_count": 72,
   "id": "96cd73ff-8df6-41dc-8b74-9828bbce8cb2",
   "metadata": {},
   "outputs": [],
   "source": [
    "test_ohe = pd.DataFrame(\n",
    "    ohe2.transform(test[ohe_features2]),\n",
    "    columns=ohe2.get_feature_names(ohe_features2)\n",
    ")"
   ]
  },
  {
   "cell_type": "code",
   "execution_count": 73,
   "id": "d7376ed4-7ba2-4d4b-8447-3175d927ca7d",
   "metadata": {},
   "outputs": [],
   "source": [
    "test_subset = pd.concat([test[features].drop(columns=ohe_features2), test_ohe], axis=1).fillna(0)"
   ]
  },
  {
   "cell_type": "code",
   "execution_count": 75,
   "id": "31e54788-4edc-4293-87f3-8274f1b01491",
   "metadata": {},
   "outputs": [],
   "source": [
    "test['SalePrice'] = pipe2.predict(test_subset)"
   ]
  },
  {
   "cell_type": "code",
   "execution_count": 76,
   "id": "d6c6fa6c-083f-4176-9dfc-b90d61db1418",
   "metadata": {},
   "outputs": [],
   "source": [
    "submission2 = pd.DataFrame({\n",
    "    'Id': test['Id'],\n",
    "    'SalePrice': test['SalePrice']\n",
    "})"
   ]
  },
  {
   "cell_type": "code",
   "execution_count": 79,
   "id": "5fed0332-2d1e-41da-8122-3fabc82b6698",
   "metadata": {},
   "outputs": [],
   "source": [
    "submission2 = submission2.set_index('Id')"
   ]
  },
  {
   "cell_type": "code",
   "execution_count": 80,
   "id": "719ff91d-6961-47b2-9878-857a1646ca2a",
   "metadata": {},
   "outputs": [],
   "source": [
    "submission2.to_csv('GatesPrediction2.csv')"
   ]
  },
  {
   "cell_type": "markdown",
   "id": "1e0dfa62-0183-425e-88e6-52dfe9b99177",
   "metadata": {},
   "source": [
    "-----"
   ]
  },
  {
   "cell_type": "code",
   "execution_count": 177,
   "id": "6323ce17-5c4a-4595-921c-7b11a4ae334c",
   "metadata": {},
   "outputs": [],
   "source": [
    "ohe_features = [\n",
    "    'MS Zoning', \n",
    "    'Neighborhood', \n",
    "    'Condition 1',\n",
    "    'Condition 2',\n",
    "    #adding the following:\n",
    "    'Land Contour',\n",
    "    'Kitchen Qual'\n",
    "]\n",
    "\n",
    "features = num_features + ohe_features"
   ]
  },
  {
   "cell_type": "code",
   "execution_count": 178,
   "id": "253af9f5-4ec2-4f86-b3ea-23ca45a15647",
   "metadata": {},
   "outputs": [],
   "source": [
    "#Define predictor and target variable(s):\n",
    "X=df[features]\n",
    "y=df['SalePrice']"
   ]
  },
  {
   "cell_type": "code",
   "execution_count": 179,
   "id": "3603559a-dfb8-43ca-a0b9-f98ef6f6c148",
   "metadata": {},
   "outputs": [],
   "source": [
    "#train test split\n",
    "X_train, X_test, y_train, y_test = train_test_split(X, y, random_state=42)"
   ]
  },
  {
   "cell_type": "code",
   "execution_count": 180,
   "id": "05fd758d-2dd8-4a8b-a808-73c9c322dd2c",
   "metadata": {},
   "outputs": [],
   "source": [
    "ohe = OneHotEncoder(sparse=False,handle_unknown='ignore')\n",
    "ohe.fit(X_train[ohe_features])\n",
    "\n",
    "#convert training categorical columns\n",
    "X_train_ohe = pd.DataFrame(\n",
    "    ohe.transform(X_train[ohe_features]),\n",
    "    columns=ohe.get_feature_names(ohe_features)\n",
    ")\n",
    "\n",
    "#convert testing categorical columns\n",
    "X_test_ohe = pd.DataFrame(\n",
    "    ohe.transform(X_test[ohe_features]),\n",
    "    columns=ohe.get_feature_names(ohe_features)\n",
    ")"
   ]
  },
  {
   "cell_type": "code",
   "execution_count": 181,
   "id": "df049585-ffd1-440a-99b0-4421b1fd407a",
   "metadata": {},
   "outputs": [],
   "source": [
    "#Adding one hot encoded columns to train test split X's\n",
    "X_train_full = pd.concat([X_train.reset_index(drop=True), X_train_ohe], axis=1).drop(columns=ohe_features)\n",
    "X_test_full = pd.concat([X_test.reset_index(drop=True), X_test_ohe], axis=1).drop(columns=ohe_features)"
   ]
  },
  {
   "cell_type": "code",
   "execution_count": 155,
   "id": "6ab198e8-b5c7-499c-b7f0-9c80626b7369",
   "metadata": {},
   "outputs": [
    {
     "name": "stderr",
     "output_type": "stream",
     "text": [
      "[Parallel(n_jobs=1)]: Using backend SequentialBackend with 1 concurrent workers.\n",
      "....................................................................................................................................................................................................................................................................................................................................................................................................................................................................................................................[Parallel(n_jobs=1)]: Done   5 out of   5 | elapsed:  1.2min finished\n",
      "/Users/kevingates/opt/anaconda3/lib/python3.9/site-packages/sklearn/linear_model/_coordinate_descent.py:530: ConvergenceWarning: Objective did not converge. You might want to increase the number of iterations. Duality gap: 2785786218.4025574, tolerance: 812106208.9881159\n",
      "  model = cd_fast.enet_coordinate_descent(\n"
     ]
    },
    {
     "data": {
      "text/plain": [
       "(0.9706598363598034, 0.9256822201252949)"
      ]
     },
     "execution_count": 155,
     "metadata": {},
     "output_type": "execute_result"
    }
   ],
   "source": [
    "#Fit and Score Pipeline\n",
    "pipe3=Pipeline([\n",
    "    ('ss', StandardScaler()),\n",
    "    ('pf', PolynomialFeatures(interaction_only=False, include_bias=False)),\n",
    "    ('lr', LassoCV(verbose=True))\n",
    "])\n",
    "\n",
    "pipe3.fit(X_train_full, y_train)\n",
    "pipe3.score(X_train_full, y_train), pipe3.score(X_test_full, y_test)"
   ]
  },
  {
   "cell_type": "code",
   "execution_count": 156,
   "id": "5dd1a16f-135d-4f4e-abac-3af129695c98",
   "metadata": {},
   "outputs": [
    {
     "data": {
      "text/plain": [
       "(14126.530709645056, 22157.07605736612)"
      ]
     },
     "execution_count": 156,
     "metadata": {},
     "output_type": "execute_result"
    }
   ],
   "source": [
    "rmse(pipe3, X_train_full, y_train), rmse(pipe3, X_test_full, y_test)"
   ]
  },
  {
   "cell_type": "markdown",
   "id": "d22e8684-ad7e-4a41-ae18-6d6d0a30fd26",
   "metadata": {},
   "source": [
    "Exporting model preds to kaggle:"
   ]
  },
  {
   "cell_type": "code",
   "execution_count": 161,
   "id": "ac24bb31-4fbd-432c-939a-606c5624b8c8",
   "metadata": {},
   "outputs": [],
   "source": [
    "test = pd.read_csv('./datasets/test.csv', keep_default_na=False, na_values=[''])\n",
    "test=test.fillna(0)"
   ]
  },
  {
   "cell_type": "code",
   "execution_count": 162,
   "id": "5d56bfd1-fac8-4a4e-b7c6-1f4d7db07272",
   "metadata": {},
   "outputs": [],
   "source": [
    "test_ohe = pd.DataFrame(\n",
    "    ohe.transform(test[ohe_features]),\n",
    "    columns=ohe.get_feature_names(ohe_features)\n",
    ")"
   ]
  },
  {
   "cell_type": "code",
   "execution_count": 163,
   "id": "6cb55d31-e66a-4704-b256-336fe4cb63ad",
   "metadata": {},
   "outputs": [],
   "source": [
    "test_subset = pd.concat([test[features].drop(columns=ohe_features), test_ohe], axis=1).fillna(0)"
   ]
  },
  {
   "cell_type": "code",
   "execution_count": 164,
   "id": "aaa05b95-8ad6-4b47-8180-d387417ad6c4",
   "metadata": {},
   "outputs": [],
   "source": [
    "test['SalePrice'] = pipe3.predict(test_subset)"
   ]
  },
  {
   "cell_type": "code",
   "execution_count": 165,
   "id": "d7321bd4-f0f5-47ea-a7d8-ed3d483e7709",
   "metadata": {},
   "outputs": [],
   "source": [
    "submission3 = pd.DataFrame({\n",
    "    'Id': test['Id'],\n",
    "    'SalePrice': test['SalePrice']\n",
    "})"
   ]
  },
  {
   "cell_type": "code",
   "execution_count": 166,
   "id": "28ad76ac-d0ad-4e97-83f4-8833db9b0074",
   "metadata": {},
   "outputs": [],
   "source": [
    "submission3 = submission3.set_index('Id')"
   ]
  },
  {
   "cell_type": "code",
   "execution_count": 167,
   "id": "50cbf9f3-2e9f-4212-934f-94f0806404fd",
   "metadata": {},
   "outputs": [],
   "source": [
    "submission3.to_csv('./kaggle_subs/gates_pred3.csv')"
   ]
  },
  {
   "cell_type": "markdown",
   "id": "8937cd2f-2e2e-49bf-9105-ebd8da896086",
   "metadata": {},
   "source": [
    "-----"
   ]
  },
  {
   "cell_type": "code",
   "execution_count": 182,
   "id": "5df32d8b-506a-4f14-aa36-2c7752880d02",
   "metadata": {},
   "outputs": [
    {
     "name": "stderr",
     "output_type": "stream",
     "text": [
      "[Parallel(n_jobs=1)]: Using backend SequentialBackend with 1 concurrent workers.\n",
      "........................................................................................................................................................................................................................................................................................................./Users/kevingates/opt/anaconda3/lib/python3.9/site-packages/sklearn/linear_model/_coordinate_descent.py:530: ConvergenceWarning: Objective did not converge. You might want to increase the number of iterations. Duality gap: 810231288.6675415, tolerance: 641970999.0367229\n",
      "  model = cd_fast.enet_coordinate_descent(\n",
      "...........................................................................................................................................................................................................[Parallel(n_jobs=1)]: Done   5 out of   5 | elapsed:  1.6min finished\n",
      "/Users/kevingates/opt/anaconda3/lib/python3.9/site-packages/sklearn/linear_model/_coordinate_descent.py:530: ConvergenceWarning: Objective did not converge. You might want to increase the number of iterations. Duality gap: 16103616781.212006, tolerance: 812106208.9881159\n",
      "  model = cd_fast.enet_coordinate_descent(\n"
     ]
    },
    {
     "data": {
      "text/plain": [
       "(0.9767290842570977, 0.9094053482731476)"
      ]
     },
     "execution_count": 182,
     "metadata": {},
     "output_type": "execute_result"
    }
   ],
   "source": [
    "#Fit and Score Pipeline (Same as above except interaction_only=True)\n",
    "pipe4=Pipeline([\n",
    "    ('ss', StandardScaler()),\n",
    "    ('pf', PolynomialFeatures(interaction_only=True, include_bias=False)),\n",
    "    ('lr', LassoCV(verbose=True))\n",
    "])\n",
    "\n",
    "pipe4.fit(X_train_full, y_train)\n",
    "pipe4.score(X_train_full, y_train), pipe4.score(X_test_full, y_test)"
   ]
  },
  {
   "cell_type": "code",
   "execution_count": 183,
   "id": "0f8451f4-f371-4ef1-9049-6a30449088b3",
   "metadata": {
    "tags": []
   },
   "outputs": [
    {
     "data": {
      "text/plain": [
       "(12580.879101181486, 24463.430879587053)"
      ]
     },
     "execution_count": 183,
     "metadata": {},
     "output_type": "execute_result"
    }
   ],
   "source": [
    "rmse(pipe4, X_train_full, y_train), rmse(pipe4, X_test_full, y_test)"
   ]
  },
  {
   "cell_type": "markdown",
   "id": "fbb89441-fb9a-4db8-98f4-a3e120b6e590",
   "metadata": {},
   "source": [
    "Exporting model predictions to kaggle:"
   ]
  },
  {
   "cell_type": "code",
   "execution_count": 184,
   "id": "aa971135-cb18-4183-a91d-e5b0e06d994b",
   "metadata": {},
   "outputs": [],
   "source": [
    "test = pd.read_csv('./datasets/test.csv', keep_default_na=False, na_values=[''])\n",
    "test=test.fillna(0)"
   ]
  },
  {
   "cell_type": "code",
   "execution_count": 185,
   "id": "cb1ad971-a4e7-46a6-baf2-cb7bce22af6d",
   "metadata": {},
   "outputs": [],
   "source": [
    "test_ohe = pd.DataFrame(\n",
    "    ohe.transform(test[ohe_features]),\n",
    "    columns=ohe.get_feature_names(ohe_features)\n",
    ")"
   ]
  },
  {
   "cell_type": "code",
   "execution_count": 186,
   "id": "fe3f2090-9d98-4527-ae64-550b3fd939a9",
   "metadata": {},
   "outputs": [],
   "source": [
    "test_subset = pd.concat([test[features].drop(columns=ohe_features), test_ohe], axis=1).fillna(0)"
   ]
  },
  {
   "cell_type": "code",
   "execution_count": 187,
   "id": "3e1ba86c-4ba1-45d3-b6cf-cbb5fed625a0",
   "metadata": {},
   "outputs": [],
   "source": [
    "preds4 = pipe4.predict(test_subset)"
   ]
  },
  {
   "cell_type": "code",
   "execution_count": 188,
   "id": "7c2bb059-9ff0-4ea0-aedf-5687917a3597",
   "metadata": {},
   "outputs": [],
   "source": [
    "submission4 = pd.DataFrame({\n",
    "    'Id': test['Id'],\n",
    "    'SalePrice': preds4\n",
    "})"
   ]
  },
  {
   "cell_type": "code",
   "execution_count": 189,
   "id": "8baaea0e-cf47-4ce5-b48b-95b440030065",
   "metadata": {},
   "outputs": [],
   "source": [
    "submission4 = submission4.set_index('Id')"
   ]
  },
  {
   "cell_type": "code",
   "execution_count": 190,
   "id": "7853f16e-b013-4666-a4cc-e75bd7c6ca58",
   "metadata": {},
   "outputs": [],
   "source": [
    "submission4.to_csv('./kaggle_subs/gates_pred4.csv')"
   ]
  },
  {
   "cell_type": "markdown",
   "id": "ffa34c86-1722-4d38-bec7-35bb49bdfa61",
   "metadata": {},
   "source": [
    "-----"
   ]
  },
  {
   "cell_type": "markdown",
   "id": "492b648b-f2d8-499b-9085-9165c351ec66",
   "metadata": {
    "tags": []
   },
   "source": [
    "I want to try adding just a couple more categorical values."
   ]
  },
  {
   "cell_type": "code",
   "execution_count": 140,
   "id": "314d40d7-1377-493a-82fa-0aad38714ed0",
   "metadata": {},
   "outputs": [],
   "source": [
    "ohe_features = [\n",
    "    'MS Zoning', \n",
    "    'Neighborhood', \n",
    "    'Condition 1',\n",
    "    'Condition 2',\n",
    "    'Land Contour',\n",
    "    'Kitchen Qual',\n",
    "    #adding the following:\n",
    "    'Bsmt Qual',\n",
    "    'Functional',\n",
    "    'Garage Qual'\n",
    "]\n",
    "\n",
    "features = num_features + ohe_features"
   ]
  },
  {
   "cell_type": "code",
   "execution_count": 141,
   "id": "57b3b6f9-edd5-43ea-8545-6627aad7d625",
   "metadata": {},
   "outputs": [],
   "source": [
    "#Define predictor and target variable(s):\n",
    "X=df[features]\n",
    "y=df['SalePrice']"
   ]
  },
  {
   "cell_type": "code",
   "execution_count": 142,
   "id": "7d563c16-634d-4e88-9f5b-aae211bdbf26",
   "metadata": {},
   "outputs": [],
   "source": [
    "#train test split\n",
    "X_train, X_test, y_train, y_test = train_test_split(X, y, random_state=42)"
   ]
  },
  {
   "cell_type": "code",
   "execution_count": 143,
   "id": "0a442a10-da1e-4d48-8538-befd534a4861",
   "metadata": {},
   "outputs": [],
   "source": [
    "ohe = OneHotEncoder(sparse=False,handle_unknown='ignore')\n",
    "ohe.fit(X_train[ohe_features])\n",
    "\n",
    "#convert training categorical columns\n",
    "X_train_ohe = pd.DataFrame(\n",
    "    ohe.transform(X_train[ohe_features]),\n",
    "    columns=ohe.get_feature_names(ohe_features)\n",
    ")\n",
    "\n",
    "#convert testing categorical columns\n",
    "X_test_ohe = pd.DataFrame(\n",
    "    ohe.transform(X_test[ohe_features]),\n",
    "    columns=ohe.get_feature_names(ohe_features)\n",
    ")"
   ]
  },
  {
   "cell_type": "code",
   "execution_count": 144,
   "id": "64e7d7d5-be98-4655-8dcf-65cdaae5ce9d",
   "metadata": {},
   "outputs": [],
   "source": [
    "#Adding one hot encoded columns to train test split X's\n",
    "X_train_full = pd.concat([X_train.reset_index(drop=True), X_train_ohe], axis=1).drop(columns=ohe_features)\n",
    "X_test_full = pd.concat([X_test.reset_index(drop=True), X_test_ohe], axis=1).drop(columns=ohe_features)"
   ]
  },
  {
   "cell_type": "code",
   "execution_count": 148,
   "id": "de1f8a98-9317-4f52-a599-7fbb386967b9",
   "metadata": {},
   "outputs": [
    {
     "name": "stderr",
     "output_type": "stream",
     "text": [
      "[Parallel(n_jobs=1)]: Using backend SequentialBackend with 1 concurrent workers.\n",
      "....................................................................................................................................................................................................................................................................................................................................................................................................................................................................................................................[Parallel(n_jobs=1)]: Done   5 out of   5 | elapsed:  2.3min finished\n"
     ]
    },
    {
     "data": {
      "text/plain": [
       "(0.8577380327714458, 0.8395253977695564)"
      ]
     },
     "execution_count": 148,
     "metadata": {},
     "output_type": "execute_result"
    }
   ],
   "source": [
    "#Fit and Score Pipeline\n",
    "pipe5=Pipeline([\n",
    "    ('ss', StandardScaler()),\n",
    "    ('pf', PolynomialFeatures(interaction_only=True, include_bias=False)),\n",
    "    ('lr', LassoCV(verbose=True))\n",
    "])\n",
    "\n",
    "pipe5.fit(X_train_full, y_train)\n",
    "pipe5.score(X_train_full, y_train), pipe5.score(X_test_full, y_test)"
   ]
  },
  {
   "cell_type": "code",
   "execution_count": 149,
   "id": "ed821f8d-7820-4086-afb0-53ad94526796",
   "metadata": {},
   "outputs": [
    {
     "data": {
      "text/plain": [
       "(31106.32154848639, 32558.863631670796)"
      ]
     },
     "execution_count": 149,
     "metadata": {},
     "output_type": "execute_result"
    }
   ],
   "source": [
    "rmse(pipe5, X_train_full, y_train), rmse(pipe5, X_test_full, y_test)"
   ]
  },
  {
   "cell_type": "markdown",
   "id": "d95869c4-e8a2-44bd-953b-26fbd9c44f09",
   "metadata": {},
   "source": [
    "------"
   ]
  },
  {
   "cell_type": "markdown",
   "id": "9de6cea2-2964-4a05-9e51-baa13d7e1c63",
   "metadata": {},
   "source": [
    "I will make an attempt to use RidgeCV instead of Lasso CV on my best fitting model to show the difference in methodology. "
   ]
  },
  {
   "cell_type": "markdown",
   "id": "ad990165-5c90-4815-99a7-890eb6ff17ad",
   "metadata": {},
   "source": [
    "------"
   ]
  },
  {
   "cell_type": "code",
   "execution_count": 191,
   "id": "a0f68b70-955c-4db5-ae20-40a3ff7d4def",
   "metadata": {},
   "outputs": [],
   "source": [
    "ohe_features = [\n",
    "    'MS Zoning', \n",
    "    'Neighborhood', \n",
    "    'Condition 1',\n",
    "    'Condition 2',\n",
    "    'Land Contour',\n",
    "    'Kitchen Qual'\n",
    "]\n",
    "\n",
    "features = num_features + ohe_features"
   ]
  },
  {
   "cell_type": "code",
   "execution_count": 192,
   "id": "6ea76736-777c-4398-9e97-7170dc61506f",
   "metadata": {},
   "outputs": [],
   "source": [
    "#Define predictor and target variable(s):\n",
    "X=df[features]\n",
    "y=df['SalePrice']"
   ]
  },
  {
   "cell_type": "code",
   "execution_count": 193,
   "id": "1ac09160-e33a-4f75-b93f-df4fe3108cd0",
   "metadata": {},
   "outputs": [],
   "source": [
    "#train test split\n",
    "X_train, X_test, y_train, y_test = train_test_split(X, y, random_state=42)"
   ]
  },
  {
   "cell_type": "code",
   "execution_count": 194,
   "id": "7c0c3254-a943-4bf2-9747-4d4c422d1860",
   "metadata": {},
   "outputs": [],
   "source": [
    "ohe = OneHotEncoder(sparse=False,handle_unknown='ignore')\n",
    "ohe.fit(X_train[ohe_features])\n",
    "\n",
    "#convert training categorical columns\n",
    "X_train_ohe = pd.DataFrame(\n",
    "    ohe.transform(X_train[ohe_features]),\n",
    "    columns=ohe.get_feature_names(ohe_features)\n",
    ")\n",
    "\n",
    "#convert testing categorical columns\n",
    "X_test_ohe = pd.DataFrame(\n",
    "    ohe.transform(X_test[ohe_features]),\n",
    "    columns=ohe.get_feature_names(ohe_features)\n",
    ")"
   ]
  },
  {
   "cell_type": "code",
   "execution_count": 195,
   "id": "d315e798-0222-4bee-8cae-980fbce1305c",
   "metadata": {},
   "outputs": [],
   "source": [
    "#Adding one hot encoded columns to train test split X's\n",
    "X_train_full = pd.concat([X_train.reset_index(drop=True), X_train_ohe], axis=1).drop(columns=ohe_features)\n",
    "X_test_full = pd.concat([X_test.reset_index(drop=True), X_test_ohe], axis=1).drop(columns=ohe_features)"
   ]
  },
  {
   "cell_type": "code",
   "execution_count": 196,
   "id": "a3a99b6d-6e85-4bc3-929d-c8cb3099be09",
   "metadata": {},
   "outputs": [
    {
     "data": {
      "text/plain": [
       "(0.9826281708886859, 0.8288420810437107)"
      ]
     },
     "execution_count": 196,
     "metadata": {},
     "output_type": "execute_result"
    }
   ],
   "source": [
    "#Fit and Score Pipeline\n",
    "pipe_r=Pipeline([\n",
    "    ('ss', StandardScaler()),\n",
    "    ('pf', PolynomialFeatures(interaction_only=False, include_bias=False)),\n",
    "    ('rg', RidgeCV())\n",
    "])\n",
    "\n",
    "pipe_r.fit(X_train_full, y_train)\n",
    "pipe_r.score(X_train_full, y_train), pipe_r.score(X_test_full, y_test)"
   ]
  },
  {
   "cell_type": "code",
   "execution_count": 197,
   "id": "177c2e9e-8715-472b-8537-f1ea2039627c",
   "metadata": {},
   "outputs": [
    {
     "data": {
      "text/plain": [
       "(10869.936982638008, 33625.177342471194)"
      ]
     },
     "execution_count": 197,
     "metadata": {},
     "output_type": "execute_result"
    }
   ],
   "source": [
    "rmse(pipe_r, X_train_full, y_train), rmse(pipe_r, X_test_full, y_test)"
   ]
  },
  {
   "cell_type": "markdown",
   "id": "f1c489ca-714f-43e5-94a0-84aca7e2c61a",
   "metadata": {},
   "source": [
    "-----"
   ]
  },
  {
   "cell_type": "markdown",
   "id": "90ef4672-4d2a-4357-b56c-1ed1782130b0",
   "metadata": {},
   "source": [
    "Running RidgeCV on the best model inputs for LassoCV produces the highest R2 train score I've seen yet but is quite overfit as a model. Lasso penalizes more strongly certain coefficients taking them all the way to 0 which can explain why the lasso model is less susceptible to overfitting."
   ]
  },
  {
   "cell_type": "markdown",
   "id": "28a4e3d5-78cf-449e-a5e6-67a76606336b",
   "metadata": {},
   "source": [
    "--------"
   ]
  }
 ],
 "metadata": {
  "kernelspec": {
   "display_name": "Python 3 (ipykernel)",
   "language": "python",
   "name": "python3"
  },
  "language_info": {
   "codemirror_mode": {
    "name": "ipython",
    "version": 3
   },
   "file_extension": ".py",
   "mimetype": "text/x-python",
   "name": "python",
   "nbconvert_exporter": "python",
   "pygments_lexer": "ipython3",
   "version": "3.9.7"
  }
 },
 "nbformat": 4,
 "nbformat_minor": 5
}
