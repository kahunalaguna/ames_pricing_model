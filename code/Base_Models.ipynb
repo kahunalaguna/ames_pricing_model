{
 "cells": [
  {
   "cell_type": "markdown",
   "id": "23f7f07d-98fe-47a0-b2da-8409998503ec",
   "metadata": {},
   "source": [
    "# Base Models and Iteration"
   ]
  },
  {
   "cell_type": "markdown",
   "id": "d0aa9e9a-f693-4771-9164-f8cbf8375229",
   "metadata": {},
   "source": [
    "After combing through the feature relationship with price in EDA, I separated the numeric variables into groups ranked by the strength of their price relationship. A features I wanted to include immediately, B maybe later, and C not at all."
   ]
  },
  {
   "cell_type": "markdown",
   "id": "5b64829c-a50b-4f7b-94f7-ae65e9c3d4d6",
   "metadata": {},
   "source": [
    "I dealt with Categorical varriables in a similar way, ranking them according to the utility I expected them to lend a model. I picked out those I wanted to engineer and test from the start, those I could engineer later on, and those I expected to be redundant or just noise."
   ]
  },
  {
   "cell_type": "code",
   "execution_count": 1,
   "id": "cb27f470-c480-4fcf-b1ee-57440a87b80b",
   "metadata": {},
   "outputs": [],
   "source": [
    "import pandas as pd\n",
    "import numpy as np\n",
    "import matplotlib.pyplot as plt\n",
    "import seaborn as sns\n",
    "\n",
    "from sklearn.metrics import r2_score, mean_squared_error\n",
    "from sklearn.model_selection import train_test_split, cross_val_score, GridSearchCV\n",
    "from sklearn.preprocessing import StandardScaler, PolynomialFeatures\n",
    "from sklearn.pipeline import Pipeline\n",
    "from sklearn.linear_model import LinearRegression, LassoCV, RidgeCV"
   ]
  },
  {
   "cell_type": "code",
   "execution_count": 2,
   "id": "1ca4f466-13bc-483f-bf02-e112a4b6732c",
   "metadata": {},
   "outputs": [],
   "source": [
    "def rmse(model, X, y):\n",
    "    model_preds = model.predict(X)\n",
    "    mse = mean_squared_error(y, model_preds)\n",
    "    return mse ** 0.5"
   ]
  },
  {
   "cell_type": "code",
   "execution_count": 3,
   "id": "5925b691-7e4b-41c7-b1fb-01e065b68dea",
   "metadata": {},
   "outputs": [],
   "source": [
    "df = pd.read_csv('../datasets/cleaned_housing_data.csv', keep_default_na=False, na_values=[''])\n",
    "pd.options.display.max_columns = 99\n",
    "df = df.drop(columns=['Unnamed: 0'])\n",
    "df.head();"
   ]
  },
  {
   "cell_type": "code",
   "execution_count": 4,
   "id": "354a9977-5526-461b-9d11-3f98773ba74c",
   "metadata": {},
   "outputs": [],
   "source": [
    "# The list below includes my rank 'A' numeric type features\n",
    "features_A=[\n",
    "    'Overall Qual',\n",
    "    'Overall Cond',\n",
    "    'Year Built',\n",
    "    'Year Remod/Add',\n",
    "    'Total Bsmt SF',\n",
    "    '1st Flr SF',\n",
    "    'Gr Liv Area',\n",
    "    'TotRms AbvGrd',\n",
    "    'Fireplaces',\n",
    "    'Garage Yr Blt',\n",
    "    'Garage Area'\n",
    "]"
   ]
  },
  {
   "cell_type": "code",
   "execution_count": 5,
   "id": "fb78c90a-aad9-4609-8256-6b0b2b8302c0",
   "metadata": {},
   "outputs": [],
   "source": [
    "# The list below includes my rank 'B' numeric type features\n",
    "features_B=[\n",
    "    'BsmtFin SF 1',\n",
    "    '2nd Flr SF',\n",
    "    'Bsmt Full Bath',\n",
    "    'Full Bath',\n",
    "    'Garage Cars',\n",
    "    'Wood Deck SF',\n",
    "    'Enclosed Porch',\n",
    "    'Yr Sold',\n",
    "    'Mas Vnr Area'\n",
    "]"
   ]
  },
  {
   "cell_type": "code",
   "execution_count": 6,
   "id": "503cda90-5729-44fe-87d1-b4f3615ff0cb",
   "metadata": {},
   "outputs": [],
   "source": [
    "# The list below includes my rank 'C' numeric type features\n",
    "features_C=[\n",
    "    'Bsmt Half Bath',\n",
    "    'Half Bath',\n",
    "]"
   ]
  },
  {
   "cell_type": "markdown",
   "id": "c5e1dc0e-33d5-4a48-ada2-956ffd0e8c46",
   "metadata": {},
   "source": [
    "### Creating Base Model"
   ]
  },
  {
   "cell_type": "code",
   "execution_count": 7,
   "id": "fbc1018e-4ce7-4215-aee5-bc4a45058125",
   "metadata": {},
   "outputs": [],
   "source": [
    "#Define predictor and target variable(s):\n",
    "X = df[features_A]\n",
    "y = df['SalePrice']"
   ]
  },
  {
   "cell_type": "code",
   "execution_count": 8,
   "id": "90b65027-0e7e-4cc1-bffa-db86dc448b73",
   "metadata": {},
   "outputs": [],
   "source": [
    "#train test split\n",
    "X_train, X_test, y_train, y_test = train_test_split(X, y, random_state=42)"
   ]
  },
  {
   "cell_type": "code",
   "execution_count": 9,
   "id": "e3f0a2e4-439b-4867-8012-2ef606a23d21",
   "metadata": {},
   "outputs": [
    {
     "data": {
      "text/plain": [
       "(0.7856036530474535, 0.8294812034990572)"
      ]
     },
     "execution_count": 9,
     "metadata": {},
     "output_type": "execute_result"
    }
   ],
   "source": [
    "#Instantiate, fit, score model:\n",
    "lr = LinearRegression()\n",
    "mod1 = lr.fit(X_train, y_train)\n",
    "mod1.score(X_train, y_train), mod1.score(X_test, y_test)"
   ]
  },
  {
   "cell_type": "code",
   "execution_count": 10,
   "id": "4d2cf3fb-59fb-45cc-96c9-f1dd974692bf",
   "metadata": {},
   "outputs": [
    {
     "data": {
      "text/plain": [
       "38186.77151578066"
      ]
     },
     "execution_count": 10,
     "metadata": {},
     "output_type": "execute_result"
    }
   ],
   "source": [
    "#Calculate RMSE: (train split)\n",
    "rmse(mod1, X_train, y_train)"
   ]
  },
  {
   "cell_type": "code",
   "execution_count": 11,
   "id": "f8a8593f-559c-430f-a3aa-94d9cb089c63",
   "metadata": {},
   "outputs": [
    {
     "data": {
      "text/plain": [
       "33562.338574476446"
      ]
     },
     "execution_count": 11,
     "metadata": {},
     "output_type": "execute_result"
    }
   ],
   "source": [
    "#Calculate RMSE: (test split)\n",
    "rmse(mod1, X_test, y_test)"
   ]
  },
  {
   "cell_type": "code",
   "execution_count": 12,
   "id": "e04fcc4e-c6ab-47c7-8052-349a633f7299",
   "metadata": {},
   "outputs": [],
   "source": [
    "#Get predictions\n",
    "preds = mod1.predict(X_test)"
   ]
  },
  {
   "cell_type": "code",
   "execution_count": 13,
   "id": "2901eae9-ffbe-4f59-9a4e-048af9471345",
   "metadata": {},
   "outputs": [],
   "source": [
    "#Calculate residuals\n",
    "resids = y_test - preds"
   ]
  },
  {
   "cell_type": "code",
   "execution_count": 14,
   "id": "19b84119-bf43-4288-81fb-954e0e7cf054",
   "metadata": {},
   "outputs": [
    {
     "data": {
      "text/html": [
       "<div>\n",
       "<style scoped>\n",
       "    .dataframe tbody tr th:only-of-type {\n",
       "        vertical-align: middle;\n",
       "    }\n",
       "\n",
       "    .dataframe tbody tr th {\n",
       "        vertical-align: top;\n",
       "    }\n",
       "\n",
       "    .dataframe thead th {\n",
       "        text-align: right;\n",
       "    }\n",
       "</style>\n",
       "<table border=\"1\" class=\"dataframe\">\n",
       "  <thead>\n",
       "    <tr style=\"text-align: right;\">\n",
       "      <th></th>\n",
       "      <th>0</th>\n",
       "    </tr>\n",
       "  </thead>\n",
       "  <tbody>\n",
       "    <tr>\n",
       "      <th>Overall Qual</th>\n",
       "      <td>21801.863282</td>\n",
       "    </tr>\n",
       "    <tr>\n",
       "      <th>Overall Cond</th>\n",
       "      <td>5139.605080</td>\n",
       "    </tr>\n",
       "    <tr>\n",
       "      <th>Year Built</th>\n",
       "      <td>424.420172</td>\n",
       "    </tr>\n",
       "    <tr>\n",
       "      <th>Year Remod/Add</th>\n",
       "      <td>174.103115</td>\n",
       "    </tr>\n",
       "    <tr>\n",
       "      <th>Total Bsmt SF</th>\n",
       "      <td>11.822055</td>\n",
       "    </tr>\n",
       "    <tr>\n",
       "      <th>1st Flr SF</th>\n",
       "      <td>13.607703</td>\n",
       "    </tr>\n",
       "    <tr>\n",
       "      <th>Gr Liv Area</th>\n",
       "      <td>33.240861</td>\n",
       "    </tr>\n",
       "    <tr>\n",
       "      <th>TotRms AbvGrd</th>\n",
       "      <td>2384.730936</td>\n",
       "    </tr>\n",
       "    <tr>\n",
       "      <th>Fireplaces</th>\n",
       "      <td>10581.381950</td>\n",
       "    </tr>\n",
       "    <tr>\n",
       "      <th>Garage Yr Blt</th>\n",
       "      <td>-123.567369</td>\n",
       "    </tr>\n",
       "    <tr>\n",
       "      <th>Garage Area</th>\n",
       "      <td>72.222432</td>\n",
       "    </tr>\n",
       "  </tbody>\n",
       "</table>\n",
       "</div>"
      ],
      "text/plain": [
       "                           0\n",
       "Overall Qual    21801.863282\n",
       "Overall Cond     5139.605080\n",
       "Year Built        424.420172\n",
       "Year Remod/Add    174.103115\n",
       "Total Bsmt SF      11.822055\n",
       "1st Flr SF         13.607703\n",
       "Gr Liv Area        33.240861\n",
       "TotRms AbvGrd    2384.730936\n",
       "Fireplaces      10581.381950\n",
       "Garage Yr Blt    -123.567369\n",
       "Garage Area        72.222432"
      ]
     },
     "execution_count": 14,
     "metadata": {},
     "output_type": "execute_result"
    }
   ],
   "source": [
    "#View coefficients\n",
    "pd.DataFrame(mod1.coef_, index=X.columns)"
   ]
  },
  {
   "cell_type": "code",
   "execution_count": 16,
   "id": "fece64a3-cfc6-4703-8c3a-d17ddcd1999f",
   "metadata": {},
   "outputs": [
    {
     "data": {
      "text/html": [
       "<div>\n",
       "<style scoped>\n",
       "    .dataframe tbody tr th:only-of-type {\n",
       "        vertical-align: middle;\n",
       "    }\n",
       "\n",
       "    .dataframe tbody tr th {\n",
       "        vertical-align: top;\n",
       "    }\n",
       "\n",
       "    .dataframe thead th {\n",
       "        text-align: right;\n",
       "    }\n",
       "</style>\n",
       "<table border=\"1\" class=\"dataframe\">\n",
       "  <thead>\n",
       "    <tr style=\"text-align: right;\">\n",
       "      <th></th>\n",
       "      <th>coef val</th>\n",
       "    </tr>\n",
       "  </thead>\n",
       "  <tbody>\n",
       "    <tr>\n",
       "      <th>Garage Yr Blt</th>\n",
       "      <td>-123.567369</td>\n",
       "    </tr>\n",
       "    <tr>\n",
       "      <th>Total Bsmt SF</th>\n",
       "      <td>11.822055</td>\n",
       "    </tr>\n",
       "    <tr>\n",
       "      <th>1st Flr SF</th>\n",
       "      <td>13.607703</td>\n",
       "    </tr>\n",
       "    <tr>\n",
       "      <th>Gr Liv Area</th>\n",
       "      <td>33.240861</td>\n",
       "    </tr>\n",
       "    <tr>\n",
       "      <th>Garage Area</th>\n",
       "      <td>72.222432</td>\n",
       "    </tr>\n",
       "    <tr>\n",
       "      <th>Year Remod/Add</th>\n",
       "      <td>174.103115</td>\n",
       "    </tr>\n",
       "    <tr>\n",
       "      <th>Year Built</th>\n",
       "      <td>424.420172</td>\n",
       "    </tr>\n",
       "    <tr>\n",
       "      <th>TotRms AbvGrd</th>\n",
       "      <td>2384.730936</td>\n",
       "    </tr>\n",
       "    <tr>\n",
       "      <th>Overall Cond</th>\n",
       "      <td>5139.605080</td>\n",
       "    </tr>\n",
       "    <tr>\n",
       "      <th>Fireplaces</th>\n",
       "      <td>10581.381950</td>\n",
       "    </tr>\n",
       "    <tr>\n",
       "      <th>Overall Qual</th>\n",
       "      <td>21801.863282</td>\n",
       "    </tr>\n",
       "  </tbody>\n",
       "</table>\n",
       "</div>"
      ],
      "text/plain": [
       "                    coef val\n",
       "Garage Yr Blt    -123.567369\n",
       "Total Bsmt SF      11.822055\n",
       "1st Flr SF         13.607703\n",
       "Gr Liv Area        33.240861\n",
       "Garage Area        72.222432\n",
       "Year Remod/Add    174.103115\n",
       "Year Built        424.420172\n",
       "TotRms AbvGrd    2384.730936\n",
       "Overall Cond     5139.605080\n",
       "Fireplaces      10581.381950\n",
       "Overall Qual    21801.863282"
      ]
     },
     "execution_count": 16,
     "metadata": {},
     "output_type": "execute_result"
    }
   ],
   "source": [
    "mod1_coefs = pd.DataFrame(mod1.coef_, index=X_train.columns, columns=['coef val'])\n",
    "mod1_coefs.sort_values('coef val')"
   ]
  },
  {
   "cell_type": "code",
   "execution_count": 17,
   "id": "17b9d482-95b8-4668-b59e-b4c54782a8e4",
   "metadata": {},
   "outputs": [
    {
     "data": {
      "text/plain": [
       "<AxesSubplot:>"
      ]
     },
     "execution_count": 17,
     "metadata": {},
     "output_type": "execute_result"
    },
    {
     "data": {
      "image/png": "[encoded data removed]",
      "text/plain": [
       "<Figure size 720x576 with 1 Axes>"
      ]
     },
     "metadata": {
      "needs_background": "light"
     },
     "output_type": "display_data"
    }
   ],
   "source": [
    "mod1_coefs.plot.bar(figsize=(10,8))"
   ]
  },
  {
   "cell_type": "code",
   "execution_count": 18,
   "id": "c0d0e4fd-b21d-4c59-ae1e-a9bac22ea8bd",
   "metadata": {},
   "outputs": [
    {
     "data": {
      "image/png": "[encoded data removed]",
      "text/plain": [
       "<Figure size 432x288 with 1 Axes>"
      ]
     },
     "metadata": {},
     "output_type": "display_data"
    }
   ],
   "source": [
    "sns.figsize=(15, 30)\n",
    "sns.set_theme(style='whitegrid')\n",
    "sns.barplot(x=mod1.coef_, y=X_train.columns)\n",
    "plt.title('Base Model Coefficients')\n",
    "plt.savefig('../images/BaseCoef.png')"
   ]
  },
  {
   "cell_type": "markdown",
   "id": "5fa2e0de-20df-44b8-8ef2-074189294b6e",
   "metadata": {},
   "source": [
    "I want to introduce a pipe that scales features, adds polynomial interactions, and utilizes LassoCV:"
   ]
  },
  {
   "cell_type": "code",
   "execution_count": 19,
   "id": "97e41d95-522f-4bca-a7e5-25f7ecf91194",
   "metadata": {},
   "outputs": [
    {
     "name": "stderr",
     "output_type": "stream",
     "text": [
      "[Parallel(n_jobs=1)]: Using backend SequentialBackend with 1 concurrent workers.\n",
      "....................................................................................................................................................................................................................................................................................................................................................................................................................................................................................................................[Parallel(n_jobs=1)]: Done   5 out of   5 | elapsed:    0.2s finished\n"
     ]
    },
    {
     "data": {
      "text/plain": [
       "(0.8305232954018911, 0.8260285145534947)"
      ]
     },
     "execution_count": 19,
     "metadata": {},
     "output_type": "execute_result"
    }
   ],
   "source": [
    "pipe1 = Pipeline([\n",
    "    ('ss', StandardScaler()),\n",
    "    ('pf', PolynomialFeatures(interaction_only=True, include_bias=False)),\n",
    "    ('lr', LassoCV(verbose=True))\n",
    "])\n",
    "\n",
    "pipe1.fit(X_train, y_train)\n",
    "pipe1.score(X_train, y_train), pipe1.score(X_test, y_test)"
   ]
  },
  {
   "cell_type": "code",
   "execution_count": 20,
   "id": "70a861c1-57eb-453b-bfa5-fcc2f750047e",
   "metadata": {},
   "outputs": [
    {
     "data": {
      "text/plain": [
       "(33951.522747032825, 33900.42326669801)"
      ]
     },
     "execution_count": 20,
     "metadata": {},
     "output_type": "execute_result"
    }
   ],
   "source": [
    "rmse(pipe1, X_train, y_train), rmse(pipe1, X_test, y_test)"
   ]
  },
  {
   "cell_type": "code",
   "execution_count": 21,
   "id": "7e0dd2d7-9c16-41e9-aea0-dcef55a4d204",
   "metadata": {
    "tags": []
   },
   "outputs": [
    {
     "name": "stderr",
     "output_type": "stream",
     "text": [
      "/Users/kevingates/opt/anaconda3/lib/python3.9/site-packages/sklearn/utils/deprecation.py:87: FutureWarning: Function get_feature_names is deprecated; get_feature_names is deprecated in 1.0 and will be removed in 1.2. Please use get_feature_names_out instead.\n",
      "  warnings.warn(msg, category=FutureWarning)\n"
     ]
    },
    {
     "data": {
      "text/html": [
       "<div>\n",
       "<style scoped>\n",
       "    .dataframe tbody tr th:only-of-type {\n",
       "        vertical-align: middle;\n",
       "    }\n",
       "\n",
       "    .dataframe tbody tr th {\n",
       "        vertical-align: top;\n",
       "    }\n",
       "\n",
       "    .dataframe thead th {\n",
       "        text-align: right;\n",
       "    }\n",
       "</style>\n",
       "<table border=\"1\" class=\"dataframe\">\n",
       "  <thead>\n",
       "    <tr style=\"text-align: right;\">\n",
       "      <th></th>\n",
       "      <th>coef val</th>\n",
       "    </tr>\n",
       "  </thead>\n",
       "  <tbody>\n",
       "    <tr>\n",
       "      <th>Overall Qual</th>\n",
       "      <td>30409.133169</td>\n",
       "    </tr>\n",
       "    <tr>\n",
       "      <th>Gr Liv Area</th>\n",
       "      <td>19057.079396</td>\n",
       "    </tr>\n",
       "    <tr>\n",
       "      <th>Total Bsmt SF</th>\n",
       "      <td>9080.186189</td>\n",
       "    </tr>\n",
       "    <tr>\n",
       "      <th>Garage Area</th>\n",
       "      <td>7608.269868</td>\n",
       "    </tr>\n",
       "    <tr>\n",
       "      <th>Overall Qual Garage Area</th>\n",
       "      <td>6601.911933</td>\n",
       "    </tr>\n",
       "    <tr>\n",
       "      <th>...</th>\n",
       "      <td>...</td>\n",
       "    </tr>\n",
       "    <tr>\n",
       "      <th>Overall Cond</th>\n",
       "      <td>0.000000</td>\n",
       "    </tr>\n",
       "    <tr>\n",
       "      <th>Year Built TotRms AbvGrd</th>\n",
       "      <td>0.000000</td>\n",
       "    </tr>\n",
       "    <tr>\n",
       "      <th>Year Built Fireplaces</th>\n",
       "      <td>0.000000</td>\n",
       "    </tr>\n",
       "    <tr>\n",
       "      <th>Garage Yr Blt Garage Area</th>\n",
       "      <td>0.000000</td>\n",
       "    </tr>\n",
       "    <tr>\n",
       "      <th>Total Bsmt SF 1st Flr SF</th>\n",
       "      <td>-4356.082872</td>\n",
       "    </tr>\n",
       "  </tbody>\n",
       "</table>\n",
       "<p>66 rows × 1 columns</p>\n",
       "</div>"
      ],
      "text/plain": [
       "                               coef val\n",
       "Overall Qual               30409.133169\n",
       "Gr Liv Area                19057.079396\n",
       "Total Bsmt SF               9080.186189\n",
       "Garage Area                 7608.269868\n",
       "Overall Qual Garage Area    6601.911933\n",
       "...                                 ...\n",
       "Overall Cond                   0.000000\n",
       "Year Built TotRms AbvGrd       0.000000\n",
       "Year Built Fireplaces          0.000000\n",
       "Garage Yr Blt Garage Area      0.000000\n",
       "Total Bsmt SF 1st Flr SF   -4356.082872\n",
       "\n",
       "[66 rows x 1 columns]"
      ]
     },
     "execution_count": 21,
     "metadata": {},
     "output_type": "execute_result"
    }
   ],
   "source": [
    "pipe1_coefs = pd.DataFrame(pipe1.named_steps['lr'].coef_, index = pipe1.named_steps['pf'].get_feature_names(X_train.columns), columns=['coef val'])\n",
    "pipe1_coefs.sort_values('coef val', ascending=False)"
   ]
  },
  {
   "cell_type": "code",
   "execution_count": 22,
   "id": "27faada5-c922-4ed3-ad9e-b8aa010df50e",
   "metadata": {},
   "outputs": [
    {
     "name": "stderr",
     "output_type": "stream",
     "text": [
      "[Parallel(n_jobs=1)]: Using backend SequentialBackend with 1 concurrent workers.\n",
      "....................................................................................................................................................................................................................................................................................................................................................................................................................................................................................................................[Parallel(n_jobs=1)]: Done   5 out of   5 | elapsed:    0.3s finished\n"
     ]
    },
    {
     "data": {
      "text/plain": [
       "(0.8527797610748361, 0.8463423346447588)"
      ]
     },
     "execution_count": 22,
     "metadata": {},
     "output_type": "execute_result"
    }
   ],
   "source": [
    "pipe1a = Pipeline([\n",
    "    ('ss', StandardScaler()),\n",
    "    ('pf', PolynomialFeatures(interaction_only=False, include_bias=False)),\n",
    "    ('lr', LassoCV(verbose=True))\n",
    "])\n",
    "\n",
    "pipe1a.fit(X_train, y_train)\n",
    "pipe1a.score(X_train, y_train), pipe1a.score(X_test, y_test)"
   ]
  },
  {
   "cell_type": "code",
   "execution_count": 23,
   "id": "f30a3eca-d7b5-4abd-b27c-ecee4a29527c",
   "metadata": {},
   "outputs": [
    {
     "data": {
      "text/plain": [
       "(31643.754840950325, 31859.811355070462)"
      ]
     },
     "execution_count": 23,
     "metadata": {},
     "output_type": "execute_result"
    }
   ],
   "source": [
    "rmse(pipe1a, X_train, y_train), rmse(pipe1a, X_test, y_test)"
   ]
  },
  {
   "cell_type": "markdown",
   "id": "5c1f085f-e934-4885-92fb-0020a4ddaa9e",
   "metadata": {},
   "source": [
    "----"
   ]
  },
  {
   "cell_type": "markdown",
   "id": "fc34e6dd-9dfc-400d-a2a2-ffd7a2190ec3",
   "metadata": {},
   "source": [
    "### Iterating from Base"
   ]
  },
  {
   "cell_type": "code",
   "execution_count": 24,
   "id": "ab9b1e0e-00d4-48a1-8808-2417bdaeec9f",
   "metadata": {},
   "outputs": [],
   "source": [
    "#Define predictor and target variable(s):\n",
    "X = df[features_A].drop(columns=['Total Bsmt SF', '1st Flr SF', 'Gr Liv Area', 'Garage Area', 'Year Remod/Add'])\n",
    "y = df['SalePrice']"
   ]
  },
  {
   "cell_type": "code",
   "execution_count": 25,
   "id": "944cb84c-b598-452e-9a34-11047b793162",
   "metadata": {},
   "outputs": [],
   "source": [
    "#train test split\n",
    "X_train, X_test, y_train, y_test = train_test_split(X, y, random_state=42)"
   ]
  },
  {
   "cell_type": "code",
   "execution_count": 26,
   "id": "b4eca3ca-3d6a-4452-beb3-16495adf60db",
   "metadata": {},
   "outputs": [
    {
     "data": {
      "text/plain": [
       "(0.7312793124148631, 0.7411859088937999)"
      ]
     },
     "execution_count": 26,
     "metadata": {},
     "output_type": "execute_result"
    }
   ],
   "source": [
    "#Instantiate, fit, score model:\n",
    "lr = LinearRegression()\n",
    "mod2 = lr.fit(X_train, y_train)\n",
    "mod2.score(X_train, y_train), mod2.score(X_test, y_test)"
   ]
  },
  {
   "cell_type": "code",
   "execution_count": 27,
   "id": "1d78dce4-c9de-4902-90a9-e3813b08150d",
   "metadata": {},
   "outputs": [
    {
     "data": {
      "text/plain": [
       "(42751.83921239244, 41348.527079849475)"
      ]
     },
     "execution_count": 27,
     "metadata": {},
     "output_type": "execute_result"
    }
   ],
   "source": [
    "#Calculate RMSE: \n",
    "rmse(mod2, X_train, y_train), rmse(mod2, X_test, y_test)"
   ]
  },
  {
   "cell_type": "code",
   "execution_count": 28,
   "id": "a66eca0d-c1f2-4cd5-b5d5-985f33e6d5b5",
   "metadata": {},
   "outputs": [],
   "source": [
    "#Define predictor and target variable(s):\n",
    "X = df[features_A].drop(columns=['Year Built', 'Gr Liv Area', 'Garage Area', 'Year Remod/Add'])\n",
    "y = df['SalePrice']"
   ]
  },
  {
   "cell_type": "code",
   "execution_count": 29,
   "id": "873d98b1-418e-4806-8654-364969dd7d5d",
   "metadata": {},
   "outputs": [],
   "source": [
    "#train test split\n",
    "X_train, X_test, y_train, y_test = train_test_split(X, y, random_state=42)"
   ]
  },
  {
   "cell_type": "code",
   "execution_count": 30,
   "id": "8922baa2-0072-4152-9ef7-5be5e9693cfd",
   "metadata": {},
   "outputs": [
    {
     "data": {
      "text/plain": [
       "(0.7565873680828628, 0.7846453199891023)"
      ]
     },
     "execution_count": 30,
     "metadata": {},
     "output_type": "execute_result"
    }
   ],
   "source": [
    "#Instantiate, fit, score model:\n",
    "lr = LinearRegression()\n",
    "mod3 = lr.fit(X_train, y_train)\n",
    "mod3.score(X_train, y_train), mod3.score(X_test, y_test)"
   ]
  },
  {
   "cell_type": "code",
   "execution_count": 31,
   "id": "9a81b846-0824-4dc7-87d9-6848a6ba6f87",
   "metadata": {},
   "outputs": [
    {
     "data": {
      "text/plain": [
       "(40688.88679471767, 37717.529777543525)"
      ]
     },
     "execution_count": 31,
     "metadata": {},
     "output_type": "execute_result"
    }
   ],
   "source": [
    "#Calculate RMSE: \n",
    "rmse(mod3, X_train, y_train), rmse(mod3, X_test, y_test)"
   ]
  },
  {
   "cell_type": "markdown",
   "id": "81d38b4d-7f08-4ea2-a53d-8f5817a7b98c",
   "metadata": {},
   "source": [
    "Removing features from our A list tends to diminish model performance. Model scores up to this point indicate mild underfitting with the exception of pipe1 which indicates marginal overfitting. It's prrobably time to engineer some categorical features. But first I am going to try one more pipe with numerical features from feature list A, B, and C."
   ]
  },
  {
   "cell_type": "markdown",
   "id": "e443347a-f334-4f59-9a49-e4181f4286b4",
   "metadata": {},
   "source": [
    "-----"
   ]
  },
  {
   "cell_type": "code",
   "execution_count": 32,
   "id": "20d9938f-c672-42d5-9dec-4ca916aa5022",
   "metadata": {},
   "outputs": [],
   "source": [
    "features=features_A+features_B+features_C"
   ]
  },
  {
   "cell_type": "code",
   "execution_count": 33,
   "id": "ab397c91-29f4-466b-a34b-45eb49ce9b4d",
   "metadata": {},
   "outputs": [],
   "source": [
    "#Define predictor and target variable(s):\n",
    "X=df[features]\n",
    "y=df['SalePrice']"
   ]
  },
  {
   "cell_type": "code",
   "execution_count": 34,
   "id": "047e182a-71d2-4593-bb03-338d11b53b90",
   "metadata": {},
   "outputs": [],
   "source": [
    "#train test split\n",
    "X_train, X_test, y_train, y_test = train_test_split(X, y, random_state=42)"
   ]
  },
  {
   "cell_type": "code",
   "execution_count": 35,
   "id": "5c1ac099-4184-4f71-b537-10990769e39b",
   "metadata": {},
   "outputs": [
    {
     "data": {
      "text/plain": [
       "(0.801660708745973, 0.8449802321609459)"
      ]
     },
     "execution_count": 35,
     "metadata": {},
     "output_type": "execute_result"
    }
   ],
   "source": [
    "#Instantiate, fit, score model:\n",
    "lr = LinearRegression()\n",
    "mod4 = lr.fit(X_train, y_train)\n",
    "mod4.score(X_train, y_train), mod4.score(X_test, y_test)"
   ]
  },
  {
   "cell_type": "code",
   "execution_count": 36,
   "id": "9d71dcca-f447-49fa-a2cb-72e4e8b3ba77",
   "metadata": {},
   "outputs": [
    {
     "data": {
      "text/plain": [
       "(36728.95994225373, 32000.710867031015)"
      ]
     },
     "execution_count": 36,
     "metadata": {},
     "output_type": "execute_result"
    }
   ],
   "source": [
    "#Calculate RMSE: \n",
    "rmse(mod4, X_train, y_train), rmse(mod4, X_test, y_test)"
   ]
  },
  {
   "cell_type": "code",
   "execution_count": 37,
   "id": "52279061-acea-4f27-82ad-3ce05a535d51",
   "metadata": {},
   "outputs": [
    {
     "name": "stderr",
     "output_type": "stream",
     "text": [
      "[Parallel(n_jobs=1)]: Using backend SequentialBackend with 1 concurrent workers.\n",
      "....................................................................................................................................................................................................................................................................................................................................................................................................................................................................................................................[Parallel(n_jobs=1)]: Done   5 out of   5 | elapsed:    1.1s finished\n"
     ]
    },
    {
     "data": {
      "text/plain": [
       "(0.8182090377860828, 0.813488725139178)"
      ]
     },
     "execution_count": 37,
     "metadata": {},
     "output_type": "execute_result"
    }
   ],
   "source": [
    "pipe2 = Pipeline([\n",
    "    ('ss', StandardScaler()),\n",
    "    ('pf', PolynomialFeatures(interaction_only=True, include_bias=False)),\n",
    "    ('lr', LassoCV(verbose=True))\n",
    "])\n",
    "\n",
    "pipe2.fit(X_train, y_train)\n",
    "pipe2.score(X_train, y_train), pipe2.score(X_test, y_test)"
   ]
  },
  {
   "cell_type": "code",
   "execution_count": 38,
   "id": "9ddb1d8c-62bf-4493-9108-be7ed0b49338",
   "metadata": {},
   "outputs": [
    {
     "data": {
      "text/plain": [
       "(35163.36237048502, 35100.93055533551)"
      ]
     },
     "execution_count": 38,
     "metadata": {},
     "output_type": "execute_result"
    }
   ],
   "source": [
    "rmse(pipe2, X_train, y_train), rmse(pipe2, X_test, y_test)"
   ]
  },
  {
   "cell_type": "code",
   "execution_count": 39,
   "id": "866f5376-2782-45be-8432-c1ef507fc7fe",
   "metadata": {},
   "outputs": [
    {
     "name": "stderr",
     "output_type": "stream",
     "text": [
      "/Users/kevingates/opt/anaconda3/lib/python3.9/site-packages/sklearn/utils/deprecation.py:87: FutureWarning: Function get_feature_names is deprecated; get_feature_names is deprecated in 1.0 and will be removed in 1.2. Please use get_feature_names_out instead.\n",
      "  warnings.warn(msg, category=FutureWarning)\n"
     ]
    },
    {
     "data": {
      "text/html": [
       "<div>\n",
       "<style scoped>\n",
       "    .dataframe tbody tr th:only-of-type {\n",
       "        vertical-align: middle;\n",
       "    }\n",
       "\n",
       "    .dataframe tbody tr th {\n",
       "        vertical-align: top;\n",
       "    }\n",
       "\n",
       "    .dataframe thead th {\n",
       "        text-align: right;\n",
       "    }\n",
       "</style>\n",
       "<table border=\"1\" class=\"dataframe\">\n",
       "  <thead>\n",
       "    <tr style=\"text-align: right;\">\n",
       "      <th></th>\n",
       "      <th>coef val</th>\n",
       "    </tr>\n",
       "  </thead>\n",
       "  <tbody>\n",
       "    <tr>\n",
       "      <th>Overall Qual</th>\n",
       "      <td>31811.511374</td>\n",
       "    </tr>\n",
       "    <tr>\n",
       "      <th>Gr Liv Area</th>\n",
       "      <td>17222.970173</td>\n",
       "    </tr>\n",
       "    <tr>\n",
       "      <th>Overall Qual Garage Cars</th>\n",
       "      <td>5088.468552</td>\n",
       "    </tr>\n",
       "    <tr>\n",
       "      <th>Garage Cars</th>\n",
       "      <td>4930.637462</td>\n",
       "    </tr>\n",
       "    <tr>\n",
       "      <th>Total Bsmt SF</th>\n",
       "      <td>4916.045996</td>\n",
       "    </tr>\n",
       "    <tr>\n",
       "      <th>...</th>\n",
       "      <td>...</td>\n",
       "    </tr>\n",
       "    <tr>\n",
       "      <th>Year Remod/Add Bsmt Half Bath</th>\n",
       "      <td>-0.000000</td>\n",
       "    </tr>\n",
       "    <tr>\n",
       "      <th>Year Remod/Add Half Bath</th>\n",
       "      <td>0.000000</td>\n",
       "    </tr>\n",
       "    <tr>\n",
       "      <th>Bsmt Half Bath Half Bath</th>\n",
       "      <td>-0.000000</td>\n",
       "    </tr>\n",
       "    <tr>\n",
       "      <th>Total Bsmt SF 1st Flr SF</th>\n",
       "      <td>-557.353745</td>\n",
       "    </tr>\n",
       "    <tr>\n",
       "      <th>Gr Liv Area BsmtFin SF 1</th>\n",
       "      <td>-2710.556197</td>\n",
       "    </tr>\n",
       "  </tbody>\n",
       "</table>\n",
       "<p>253 rows × 1 columns</p>\n",
       "</div>"
      ],
      "text/plain": [
       "                                   coef val\n",
       "Overall Qual                   31811.511374\n",
       "Gr Liv Area                    17222.970173\n",
       "Overall Qual Garage Cars        5088.468552\n",
       "Garage Cars                     4930.637462\n",
       "Total Bsmt SF                   4916.045996\n",
       "...                                     ...\n",
       "Year Remod/Add Bsmt Half Bath     -0.000000\n",
       "Year Remod/Add Half Bath           0.000000\n",
       "Bsmt Half Bath Half Bath          -0.000000\n",
       "Total Bsmt SF 1st Flr SF        -557.353745\n",
       "Gr Liv Area BsmtFin SF 1       -2710.556197\n",
       "\n",
       "[253 rows x 1 columns]"
      ]
     },
     "execution_count": 39,
     "metadata": {},
     "output_type": "execute_result"
    }
   ],
   "source": [
    "pipe2_coefs = pd.DataFrame(pipe2.named_steps['lr'].coef_, index = pipe2.named_steps['pf'].get_feature_names(X_train.columns), columns=['coef val'])\n",
    "pipe2_coefs.sort_values('coef val', ascending=False)"
   ]
  },
  {
   "cell_type": "code",
   "execution_count": 40,
   "id": "8bd335cf-b92a-4753-ac26-c0ef2b692fa9",
   "metadata": {},
   "outputs": [
    {
     "name": "stderr",
     "output_type": "stream",
     "text": [
      "[Parallel(n_jobs=1)]: Using backend SequentialBackend with 1 concurrent workers.\n",
      "........................................................................................................................................................................................................................................................................................................................................................................................./Users/kevingates/opt/anaconda3/lib/python3.9/site-packages/sklearn/linear_model/_coordinate_descent.py:633: ConvergenceWarning: Objective did not converge. You might want to increase the number of iterations. Duality gap: 698281208.6445312, tolerance: 661054201.2620329\n",
      "  model = cd_fast.enet_coordinate_descent_gram(\n",
      "./Users/kevingates/opt/anaconda3/lib/python3.9/site-packages/sklearn/linear_model/_coordinate_descent.py:633: ConvergenceWarning: Objective did not converge. You might want to increase the number of iterations. Duality gap: 765737408.4165039, tolerance: 661054201.2620329\n",
      "  model = cd_fast.enet_coordinate_descent_gram(\n",
      "..........................................................................................................................[Parallel(n_jobs=1)]: Done   5 out of   5 | elapsed:    1.1s finished\n",
      "/Users/kevingates/opt/anaconda3/lib/python3.9/site-packages/sklearn/linear_model/_coordinate_descent.py:647: ConvergenceWarning: Objective did not converge. You might want to increase the number of iterations, check the scale of the features or consider increasing regularisation. Duality gap: 2.334e+10, tolerance: 8.121e+08\n",
      "  model = cd_fast.enet_coordinate_descent(\n"
     ]
    },
    {
     "data": {
      "text/plain": [
       "(0.9435758415979346, 0.9099394799225229)"
      ]
     },
     "execution_count": 40,
     "metadata": {},
     "output_type": "execute_result"
    }
   ],
   "source": [
    "pipe3 = Pipeline([\n",
    "    ('ss', StandardScaler()),\n",
    "    ('pf', PolynomialFeatures(interaction_only=False, include_bias=False)),\n",
    "    ('lr', LassoCV(verbose=True))\n",
    "])\n",
    "\n",
    "pipe3.fit(X_train, y_train)\n",
    "pipe3.score(X_train, y_train), pipe3.score(X_test, y_test)"
   ]
  },
  {
   "cell_type": "code",
   "execution_count": 41,
   "id": "e0fbdc87-1c95-4fb9-84d1-3dcb59755a35",
   "metadata": {},
   "outputs": [
    {
     "data": {
      "text/plain": [
       "(19590.106503654035, 24391.208020912643)"
      ]
     },
     "execution_count": 41,
     "metadata": {},
     "output_type": "execute_result"
    }
   ],
   "source": [
    "rmse(pipe3, X_train, y_train), rmse(pipe3, X_test, y_test)"
   ]
  },
  {
   "cell_type": "markdown",
   "id": "ea961703-68f6-4630-923e-f911dc9234cf",
   "metadata": {},
   "source": [
    "This is my best model so far. From the scores it seems like it is overfit. I am going to see if removing some features with coef's zeroed by Lasso can make it even better."
   ]
  },
  {
   "cell_type": "code",
   "execution_count": 42,
   "id": "fa6f9c9d-a5b8-42db-a730-b702769d8599",
   "metadata": {},
   "outputs": [
    {
     "name": "stderr",
     "output_type": "stream",
     "text": [
      "/Users/kevingates/opt/anaconda3/lib/python3.9/site-packages/sklearn/utils/deprecation.py:87: FutureWarning: Function get_feature_names is deprecated; get_feature_names is deprecated in 1.0 and will be removed in 1.2. Please use get_feature_names_out instead.\n",
      "  warnings.warn(msg, category=FutureWarning)\n"
     ]
    },
    {
     "data": {
      "text/html": [
       "<div>\n",
       "<style scoped>\n",
       "    .dataframe tbody tr th:only-of-type {\n",
       "        vertical-align: middle;\n",
       "    }\n",
       "\n",
       "    .dataframe tbody tr th {\n",
       "        vertical-align: top;\n",
       "    }\n",
       "\n",
       "    .dataframe thead th {\n",
       "        text-align: right;\n",
       "    }\n",
       "</style>\n",
       "<table border=\"1\" class=\"dataframe\">\n",
       "  <thead>\n",
       "    <tr style=\"text-align: right;\">\n",
       "      <th></th>\n",
       "      <th>coef val</th>\n",
       "    </tr>\n",
       "  </thead>\n",
       "  <tbody>\n",
       "    <tr>\n",
       "      <th>Gr Liv Area</th>\n",
       "      <td>20668.272194</td>\n",
       "    </tr>\n",
       "    <tr>\n",
       "      <th>Overall Qual</th>\n",
       "      <td>19648.129545</td>\n",
       "    </tr>\n",
       "    <tr>\n",
       "      <th>Total Bsmt SF</th>\n",
       "      <td>11439.511930</td>\n",
       "    </tr>\n",
       "    <tr>\n",
       "      <th>Year Built</th>\n",
       "      <td>10450.218211</td>\n",
       "    </tr>\n",
       "    <tr>\n",
       "      <th>Year Remod/Add</th>\n",
       "      <td>9725.449019</td>\n",
       "    </tr>\n",
       "    <tr>\n",
       "      <th>...</th>\n",
       "      <td>...</td>\n",
       "    </tr>\n",
       "    <tr>\n",
       "      <th>Wood Deck SF Yr Sold</th>\n",
       "      <td>-3271.562964</td>\n",
       "    </tr>\n",
       "    <tr>\n",
       "      <th>1st Flr SF Gr Liv Area</th>\n",
       "      <td>-3973.213872</td>\n",
       "    </tr>\n",
       "    <tr>\n",
       "      <th>Total Bsmt SF 1st Flr SF</th>\n",
       "      <td>-4068.833344</td>\n",
       "    </tr>\n",
       "    <tr>\n",
       "      <th>Garage Area Half Bath</th>\n",
       "      <td>-5370.772868</td>\n",
       "    </tr>\n",
       "    <tr>\n",
       "      <th>Gr Liv Area TotRms AbvGrd</th>\n",
       "      <td>-6703.963197</td>\n",
       "    </tr>\n",
       "  </tbody>\n",
       "</table>\n",
       "<p>275 rows × 1 columns</p>\n",
       "</div>"
      ],
      "text/plain": [
       "                               coef val\n",
       "Gr Liv Area                20668.272194\n",
       "Overall Qual               19648.129545\n",
       "Total Bsmt SF              11439.511930\n",
       "Year Built                 10450.218211\n",
       "Year Remod/Add              9725.449019\n",
       "...                                 ...\n",
       "Wood Deck SF Yr Sold       -3271.562964\n",
       "1st Flr SF Gr Liv Area     -3973.213872\n",
       "Total Bsmt SF 1st Flr SF   -4068.833344\n",
       "Garage Area Half Bath      -5370.772868\n",
       "Gr Liv Area TotRms AbvGrd  -6703.963197\n",
       "\n",
       "[275 rows x 1 columns]"
      ]
     },
     "execution_count": 42,
     "metadata": {},
     "output_type": "execute_result"
    }
   ],
   "source": [
    "pipe3_coefs = pd.DataFrame(pipe3.named_steps['lr'].coef_, index = pipe3.named_steps['pf'].get_feature_names(X_train.columns), columns=['coef val'])\n",
    "pipe3_coefs.sort_values('coef val', ascending=False)"
   ]
  },
  {
   "cell_type": "code",
   "execution_count": 43,
   "id": "61b3860f-38e8-4050-8fa9-260d0f07d824",
   "metadata": {},
   "outputs": [
    {
     "data": {
      "text/html": [
       "<div>\n",
       "<style scoped>\n",
       "    .dataframe tbody tr th:only-of-type {\n",
       "        vertical-align: middle;\n",
       "    }\n",
       "\n",
       "    .dataframe tbody tr th {\n",
       "        vertical-align: top;\n",
       "    }\n",
       "\n",
       "    .dataframe thead th {\n",
       "        text-align: right;\n",
       "    }\n",
       "</style>\n",
       "<table border=\"1\" class=\"dataframe\">\n",
       "  <thead>\n",
       "    <tr style=\"text-align: right;\">\n",
       "      <th></th>\n",
       "      <th>coef val</th>\n",
       "    </tr>\n",
       "  </thead>\n",
       "  <tbody>\n",
       "    <tr>\n",
       "      <th>2nd Flr SF</th>\n",
       "      <td>0.0</td>\n",
       "    </tr>\n",
       "    <tr>\n",
       "      <th>Wood Deck SF</th>\n",
       "      <td>0.0</td>\n",
       "    </tr>\n",
       "    <tr>\n",
       "      <th>Bsmt Half Bath</th>\n",
       "      <td>-0.0</td>\n",
       "    </tr>\n",
       "    <tr>\n",
       "      <th>Overall Qual Overall Cond</th>\n",
       "      <td>-0.0</td>\n",
       "    </tr>\n",
       "    <tr>\n",
       "      <th>Overall Qual Year Built</th>\n",
       "      <td>-0.0</td>\n",
       "    </tr>\n",
       "  </tbody>\n",
       "</table>\n",
       "</div>"
      ],
      "text/plain": [
       "                           coef val\n",
       "2nd Flr SF                      0.0\n",
       "Wood Deck SF                    0.0\n",
       "Bsmt Half Bath                 -0.0\n",
       "Overall Qual Overall Cond      -0.0\n",
       "Overall Qual Year Built        -0.0"
      ]
     },
     "execution_count": 43,
     "metadata": {},
     "output_type": "execute_result"
    }
   ],
   "source": [
    "pipe3_coefs[pipe3_coefs['coef val'] == 0].head()"
   ]
  },
  {
   "cell_type": "code",
   "execution_count": 44,
   "id": "6c3ac41c-9731-4dc4-a753-f60544db325a",
   "metadata": {},
   "outputs": [],
   "source": [
    "#Define predictor and target variable(s):\n",
    "X=df[features].drop(columns=['Half Bath', 'Bsmt Half Bath', '2nd Flr SF', 'Wood Deck SF', 'Enclosed Porch', 'Yr Sold'])#, 'Mas Vnr Area', 'Full Bath'])\n",
    "y=df['SalePrice']"
   ]
  },
  {
   "cell_type": "code",
   "execution_count": 45,
   "id": "2fe6a9bd-b21b-4df5-84b9-0f1ad098174f",
   "metadata": {},
   "outputs": [],
   "source": [
    "#train test split\n",
    "X_train, X_test, y_train, y_test = train_test_split(X, y, random_state=42)"
   ]
  },
  {
   "cell_type": "code",
   "execution_count": 46,
   "id": "1bd2fd7f-d674-4147-8d43-db7445b7ec40",
   "metadata": {},
   "outputs": [
    {
     "name": "stderr",
     "output_type": "stream",
     "text": [
      "[Parallel(n_jobs=1)]: Using backend SequentialBackend with 1 concurrent workers.\n",
      "....................................................................................................................................................................................................................................................................................................................................................................................................................................................................................................................[Parallel(n_jobs=1)]: Done   5 out of   5 | elapsed:    0.5s finished\n"
     ]
    },
    {
     "data": {
      "text/plain": [
       "(0.9330424669738732, 0.9188256225598422)"
      ]
     },
     "execution_count": 46,
     "metadata": {},
     "output_type": "execute_result"
    }
   ],
   "source": [
    "pipe4 = Pipeline([\n",
    "    ('ss', StandardScaler()),\n",
    "    ('pf', PolynomialFeatures(interaction_only=False, include_bias=False)),\n",
    "    ('lr', LassoCV(verbose=True))\n",
    "])\n",
    "\n",
    "pipe4.fit(X_train, y_train)\n",
    "pipe4.score(X_train, y_train), pipe4.score(X_test, y_test)"
   ]
  },
  {
   "cell_type": "code",
   "execution_count": 47,
   "id": "e3f2693a-c553-4126-a7ac-3297c1944e6b",
   "metadata": {},
   "outputs": [
    {
     "data": {
      "text/plain": [
       "(21340.46971084363, 23156.641282275814)"
      ]
     },
     "execution_count": 47,
     "metadata": {},
     "output_type": "execute_result"
    }
   ],
   "source": [
    "rmse(pipe4, X_train, y_train), rmse(pipe4, X_test, y_test)"
   ]
  },
  {
   "cell_type": "markdown",
   "id": "98c20e29-edef-49cb-84fa-9350fa13d0db",
   "metadata": {},
   "source": [
    "After trial and error with all the B and C list features, 'BsmtFin SF 1' has the greatest positive effect on model performance and should be kept in. None of the others seem to do very much."
   ]
  },
  {
   "cell_type": "markdown",
   "id": "4b885a79-f1a5-40a7-84ac-dccefc415c1e",
   "metadata": {},
   "source": [
    "Dropping Bsmt Full Bath decreased overfitting by <1% in train set but increased rmse by <1000. Garage Cars seems similarly limited in making a difference, increased train score <1%, decreased rmse <1000. Same with Full Bath."
   ]
  },
  {
   "cell_type": "markdown",
   "id": "342f6865-fcfc-4360-b4af-0ef79307d5ec",
   "metadata": {},
   "source": [
    "-------"
   ]
  },
  {
   "cell_type": "code",
   "execution_count": 48,
   "id": "5c7293db-3142-41a7-a02b-147ae88c1d90",
   "metadata": {},
   "outputs": [
    {
     "name": "stdout",
     "output_type": "stream",
     "text": [
      "['Overall Qual', 'Overall Cond', 'Year Built', 'Year Remod/Add', 'Total Bsmt SF', '1st Flr SF', 'Gr Liv Area', 'TotRms AbvGrd', 'Fireplaces', 'Garage Yr Blt', 'Garage Area', 'Mas Vnr Area', 'Full Bath', 'BsmtFin SF 1', 'Garage Cars']\n"
     ]
    }
   ],
   "source": [
    "features = features_A + ['Mas Vnr Area', 'Full Bath', 'BsmtFin SF 1', 'Garage Cars']\n",
    "print(features)"
   ]
  },
  {
   "cell_type": "code",
   "execution_count": 49,
   "id": "fbd13834-bdc0-450f-b2cd-3e6b3ee96b53",
   "metadata": {},
   "outputs": [],
   "source": [
    "#Define predictor and target variable(s):\n",
    "X=df[features]\n",
    "y=df['SalePrice']"
   ]
  },
  {
   "cell_type": "code",
   "execution_count": 50,
   "id": "dcc714a7-a881-4816-a8c9-0ba6f6996a83",
   "metadata": {},
   "outputs": [],
   "source": [
    "#train test split\n",
    "X_train, X_test, y_train, y_test = train_test_split(X, y, random_state=42)"
   ]
  },
  {
   "cell_type": "code",
   "execution_count": 51,
   "id": "0fe31520-402a-4fcc-aafc-5174fd6bf812",
   "metadata": {},
   "outputs": [
    {
     "name": "stderr",
     "output_type": "stream",
     "text": [
      "[Parallel(n_jobs=1)]: Using backend SequentialBackend with 1 concurrent workers.\n",
      "....................................................................................................................................................................................................................................................................................................................................................................................................................................................................................................................[Parallel(n_jobs=1)]: Done   5 out of   5 | elapsed:    0.5s finished\n",
      "/Users/kevingates/opt/anaconda3/lib/python3.9/site-packages/sklearn/linear_model/_coordinate_descent.py:647: ConvergenceWarning: Objective did not converge. You might want to increase the number of iterations, check the scale of the features or consider increasing regularisation. Duality gap: 1.232e+09, tolerance: 8.121e+08\n",
      "  model = cd_fast.enet_coordinate_descent(\n"
     ]
    },
    {
     "data": {
      "text/plain": [
       "(0.9313352958324199, 0.9188377542426759)"
      ]
     },
     "execution_count": 51,
     "metadata": {},
     "output_type": "execute_result"
    }
   ],
   "source": [
    "pipe5 = Pipeline([\n",
    "    ('ss', StandardScaler()),\n",
    "    ('pf', PolynomialFeatures(interaction_only=False, include_bias=False)),\n",
    "    ('lr', LassoCV(verbose=True))\n",
    "])\n",
    "\n",
    "pipe5.fit(X_train, y_train)\n",
    "pipe5.score(X_train, y_train), pipe5.score(X_test, y_test)"
   ]
  },
  {
   "cell_type": "code",
   "execution_count": 52,
   "id": "29bcc592-b7e9-4540-8118-e5ab16c698d9",
   "metadata": {},
   "outputs": [
    {
     "data": {
      "text/plain": [
       "(21610.809185260536, 23154.910813046903)"
      ]
     },
     "execution_count": 52,
     "metadata": {},
     "output_type": "execute_result"
    }
   ],
   "source": [
    "#Calculate rmse for train test splits\n",
    "rmse(pipe5, X_train, y_train), rmse(pipe5, X_test, y_test)"
   ]
  },
  {
   "cell_type": "markdown",
   "id": "dd6703bd-fca9-4535-b0d9-e6423b999da9",
   "metadata": {},
   "source": [
    "This model yields my best rmse score over the test split. I will proceed using this feature list and trry to improve further by feature engineering categorical variables."
   ]
  },
  {
   "cell_type": "markdown",
   "id": "4d578dd9-af09-4e31-83eb-51750dc7437d",
   "metadata": {},
   "source": [
    "### Generate Test Predictions for Kaggle"
   ]
  },
  {
   "cell_type": "code",
   "execution_count": 53,
   "id": "d981ea26-a307-4ed4-8e99-2f32a33f980e",
   "metadata": {},
   "outputs": [],
   "source": [
    "test = pd.read_csv('../datasets/test.csv', keep_default_na=False, na_values=[''])"
   ]
  },
  {
   "cell_type": "code",
   "execution_count": 54,
   "id": "051e675d-cb82-438e-85a9-e13ae3150a3f",
   "metadata": {},
   "outputs": [],
   "source": [
    "test = test.fillna(0)"
   ]
  },
  {
   "cell_type": "code",
   "execution_count": 55,
   "id": "54b9c76d-14cd-4264-a295-a59d84835a66",
   "metadata": {},
   "outputs": [],
   "source": [
    "kaggle_preds = pipe5.predict(test[features])"
   ]
  },
  {
   "cell_type": "code",
   "execution_count": 56,
   "id": "3098c73b-416d-4a99-9d45-fac2bb33fd13",
   "metadata": {},
   "outputs": [],
   "source": [
    "test['SalePrice'] = kaggle_preds"
   ]
  },
  {
   "cell_type": "code",
   "execution_count": 57,
   "id": "dda4a121-10fe-46fc-9c8f-9dce54b4c95f",
   "metadata": {},
   "outputs": [],
   "source": [
    "test[['Id', 'SalePrice']].to_csv('GatesPrediction1.csv')"
   ]
  },
  {
   "cell_type": "code",
   "execution_count": 58,
   "id": "0f9c9707-46d9-43b0-8f2e-de07d2d65e16",
   "metadata": {},
   "outputs": [],
   "source": [
    "submission1 = pd.DataFrame({\n",
    "    'Id': test['Id'],\n",
    "    'SalePrice': kaggle_preds\n",
    "})"
   ]
  },
  {
   "cell_type": "code",
   "execution_count": 59,
   "id": "cef64149-7be7-4f6f-b1b3-a6f4af6b4778",
   "metadata": {},
   "outputs": [],
   "source": [
    "submission1 = submission1.set_index('Id')"
   ]
  },
  {
   "cell_type": "code",
   "execution_count": 60,
   "id": "34042138-8a48-43aa-8648-c9d2f005176b",
   "metadata": {},
   "outputs": [
    {
     "data": {
      "text/html": [
       "<div>\n",
       "<style scoped>\n",
       "    .dataframe tbody tr th:only-of-type {\n",
       "        vertical-align: middle;\n",
       "    }\n",
       "\n",
       "    .dataframe tbody tr th {\n",
       "        vertical-align: top;\n",
       "    }\n",
       "\n",
       "    .dataframe thead th {\n",
       "        text-align: right;\n",
       "    }\n",
       "</style>\n",
       "<table border=\"1\" class=\"dataframe\">\n",
       "  <thead>\n",
       "    <tr style=\"text-align: right;\">\n",
       "      <th></th>\n",
       "      <th>SalePrice</th>\n",
       "    </tr>\n",
       "    <tr>\n",
       "      <th>Id</th>\n",
       "      <th></th>\n",
       "    </tr>\n",
       "  </thead>\n",
       "  <tbody>\n",
       "    <tr>\n",
       "      <th>2658</th>\n",
       "      <td>169584.943365</td>\n",
       "    </tr>\n",
       "    <tr>\n",
       "      <th>2718</th>\n",
       "      <td>120740.470598</td>\n",
       "    </tr>\n",
       "    <tr>\n",
       "      <th>2414</th>\n",
       "      <td>177467.739031</td>\n",
       "    </tr>\n",
       "    <tr>\n",
       "      <th>1989</th>\n",
       "      <td>114707.036183</td>\n",
       "    </tr>\n",
       "    <tr>\n",
       "      <th>625</th>\n",
       "      <td>178227.204529</td>\n",
       "    </tr>\n",
       "    <tr>\n",
       "      <th>...</th>\n",
       "      <td>...</td>\n",
       "    </tr>\n",
       "    <tr>\n",
       "      <th>1662</th>\n",
       "      <td>198913.239986</td>\n",
       "    </tr>\n",
       "    <tr>\n",
       "      <th>1234</th>\n",
       "      <td>228172.823792</td>\n",
       "    </tr>\n",
       "    <tr>\n",
       "      <th>1373</th>\n",
       "      <td>130821.568307</td>\n",
       "    </tr>\n",
       "    <tr>\n",
       "      <th>1672</th>\n",
       "      <td>120097.091447</td>\n",
       "    </tr>\n",
       "    <tr>\n",
       "      <th>1939</th>\n",
       "      <td>125065.600639</td>\n",
       "    </tr>\n",
       "  </tbody>\n",
       "</table>\n",
       "<p>878 rows × 1 columns</p>\n",
       "</div>"
      ],
      "text/plain": [
       "          SalePrice\n",
       "Id                 \n",
       "2658  169584.943365\n",
       "2718  120740.470598\n",
       "2414  177467.739031\n",
       "1989  114707.036183\n",
       "625   178227.204529\n",
       "...             ...\n",
       "1662  198913.239986\n",
       "1234  228172.823792\n",
       "1373  130821.568307\n",
       "1672  120097.091447\n",
       "1939  125065.600639\n",
       "\n",
       "[878 rows x 1 columns]"
      ]
     },
     "execution_count": 60,
     "metadata": {},
     "output_type": "execute_result"
    }
   ],
   "source": [
    "submission1"
   ]
  },
  {
   "cell_type": "code",
   "execution_count": 61,
   "id": "608c2c35-7ae1-43d2-a8fa-753607f38eff",
   "metadata": {},
   "outputs": [],
   "source": [
    "submission1.to_csv('../kaggle_subs/gates_pred1.csv')"
   ]
  }
 ],
 "metadata": {
  "kernelspec": {
   "display_name": "Python 3 (ipykernel)",
   "language": "python",
   "name": "python3"
  },
  "language_info": {
   "codemirror_mode": {
    "name": "ipython",
    "version": 3
   },
   "file_extension": ".py",
   "mimetype": "text/x-python",
   "name": "python",
   "nbconvert_exporter": "python",
   "pygments_lexer": "ipython3",
   "version": "3.9.7"
  }
 },
 "nbformat": 4,
 "nbformat_minor": 5
}
